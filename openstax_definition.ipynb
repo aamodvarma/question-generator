{
 "cells": [
  {
   "cell_type": "code",
   "execution_count": 11,
   "id": "fa68f838-f56f-4c01-afbf-eaf06ef98380",
   "metadata": {},
   "outputs": [],
   "source": [
    "import pathlib\n",
    "import textwrap\n",
    "import os\n",
    "import google.generativeai as genai\n",
    "import time\n",
    "import requests\n",
    "from tqdm.notebook import tqdm\n",
    "from bs4 import BeautifulSoup\n",
    "import ase.io\n",
    "from IPython.display import display\n",
    "from IPython.display import Markdown\n"
   ]
  },
  {
   "cell_type": "code",
   "execution_count": 12,
   "id": "ac7f8cd8-6021-45e5-9f4f-9a8f5ba35f86",
   "metadata": {},
   "outputs": [],
   "source": [
    "all_urls = dict();\n",
    "def extract_chapters(url):\n",
    "    response = requests.get(url)\n",
    "    response.raise_for_status()\n",
    "    soup = BeautifulSoup(response.content, 'html.parser')\n",
    "    urls = soup.find_all('li', attrs={'data-type': 'chapter'})\n",
    "    for url in urls:\n",
    "        chapter_name = url.find_all('span', class_='os-text')[0].text.strip()\n",
    "        chapter_links = [];\n",
    "        links = url.find_all('ol')[0].find_all('li')\n",
    "        for a in (links):\n",
    "            subtitle = a.find_all('a')[0].get(\"href\")\n",
    "            if ('1' <= subtitle[2] <= '9'):\n",
    "                chapter_links.append('https://openstax.org/books/calculus-volume-3/pages/'+ subtitle)\n",
    "        all_urls[chapter_name] = chapter_links\n"
   ]
  },
  {
   "cell_type": "code",
   "execution_count": 13,
   "id": "f691e2e1-4466-4f8f-b608-090290a993fb",
   "metadata": {},
   "outputs": [
    {
     "data": {
      "text/plain": [
       "{'Parametric Equations and Polar Coordinates': ['https://openstax.org/books/calculus-volume-3/pages/1-1-parametric-equations',\n",
       "  'https://openstax.org/books/calculus-volume-3/pages/1-2-calculus-of-parametric-curves',\n",
       "  'https://openstax.org/books/calculus-volume-3/pages/1-3-polar-coordinates',\n",
       "  'https://openstax.org/books/calculus-volume-3/pages/1-4-area-and-arc-length-in-polar-coordinates',\n",
       "  'https://openstax.org/books/calculus-volume-3/pages/1-5-conic-sections'],\n",
       " 'Vectors in Space': ['https://openstax.org/books/calculus-volume-3/pages/2-1-vectors-in-the-plane',\n",
       "  'https://openstax.org/books/calculus-volume-3/pages/2-2-vectors-in-three-dimensions',\n",
       "  'https://openstax.org/books/calculus-volume-3/pages/2-3-the-dot-product',\n",
       "  'https://openstax.org/books/calculus-volume-3/pages/2-4-the-cross-product',\n",
       "  'https://openstax.org/books/calculus-volume-3/pages/2-5-equations-of-lines-and-planes-in-space',\n",
       "  'https://openstax.org/books/calculus-volume-3/pages/2-6-quadric-surfaces',\n",
       "  'https://openstax.org/books/calculus-volume-3/pages/2-7-cylindrical-and-spherical-coordinates'],\n",
       " 'Vector-Valued Functions': ['https://openstax.org/books/calculus-volume-3/pages/3-1-vector-valued-functions-and-space-curves',\n",
       "  'https://openstax.org/books/calculus-volume-3/pages/3-2-calculus-of-vector-valued-functions',\n",
       "  'https://openstax.org/books/calculus-volume-3/pages/3-3-arc-length-and-curvature',\n",
       "  'https://openstax.org/books/calculus-volume-3/pages/3-4-motion-in-space'],\n",
       " 'Differentiation of Functions of Several Variables': ['https://openstax.org/books/calculus-volume-3/pages/4-1-functions-of-several-variables',\n",
       "  'https://openstax.org/books/calculus-volume-3/pages/4-2-limits-and-continuity',\n",
       "  'https://openstax.org/books/calculus-volume-3/pages/4-3-partial-derivatives',\n",
       "  'https://openstax.org/books/calculus-volume-3/pages/4-4-tangent-planes-and-linear-approximations',\n",
       "  'https://openstax.org/books/calculus-volume-3/pages/4-5-the-chain-rule',\n",
       "  'https://openstax.org/books/calculus-volume-3/pages/4-6-directional-derivatives-and-the-gradient',\n",
       "  'https://openstax.org/books/calculus-volume-3/pages/4-7-maxima-minima-problems',\n",
       "  'https://openstax.org/books/calculus-volume-3/pages/4-8-lagrange-multipliers'],\n",
       " 'Multiple Integration': ['https://openstax.org/books/calculus-volume-3/pages/5-1-double-integrals-over-rectangular-regions',\n",
       "  'https://openstax.org/books/calculus-volume-3/pages/5-2-double-integrals-over-general-regions',\n",
       "  'https://openstax.org/books/calculus-volume-3/pages/5-3-double-integrals-in-polar-coordinates',\n",
       "  'https://openstax.org/books/calculus-volume-3/pages/5-4-triple-integrals',\n",
       "  'https://openstax.org/books/calculus-volume-3/pages/5-5-triple-integrals-in-cylindrical-and-spherical-coordinates',\n",
       "  'https://openstax.org/books/calculus-volume-3/pages/5-6-calculating-centers-of-mass-and-moments-of-inertia',\n",
       "  'https://openstax.org/books/calculus-volume-3/pages/5-7-change-of-variables-in-multiple-integrals'],\n",
       " 'Vector Calculus': ['https://openstax.org/books/calculus-volume-3/pages/6-1-vector-fields',\n",
       "  'https://openstax.org/books/calculus-volume-3/pages/6-2-line-integrals',\n",
       "  'https://openstax.org/books/calculus-volume-3/pages/6-3-conservative-vector-fields',\n",
       "  'https://openstax.org/books/calculus-volume-3/pages/6-4-greens-theorem',\n",
       "  'https://openstax.org/books/calculus-volume-3/pages/6-5-divergence-and-curl',\n",
       "  'https://openstax.org/books/calculus-volume-3/pages/6-6-surface-integrals',\n",
       "  'https://openstax.org/books/calculus-volume-3/pages/6-7-stokes-theorem',\n",
       "  'https://openstax.org/books/calculus-volume-3/pages/6-8-the-divergence-theorem'],\n",
       " 'Second-Order Differential Equations': ['https://openstax.org/books/calculus-volume-3/pages/7-1-second-order-linear-equations',\n",
       "  'https://openstax.org/books/calculus-volume-3/pages/7-2-nonhomogeneous-linear-equations',\n",
       "  'https://openstax.org/books/calculus-volume-3/pages/7-3-applications',\n",
       "  'https://openstax.org/books/calculus-volume-3/pages/7-4-series-solutions-of-differential-equations']}"
      ]
     },
     "execution_count": 13,
     "metadata": {},
     "output_type": "execute_result"
    }
   ],
   "source": [
    "extract_chapters('https://openstax.org/books/calculus-volume-3/pages/1-introduction')\n",
    "all_urls"
   ]
  },
  {
   "cell_type": "code",
   "execution_count": 14,
   "id": "b571c4a5-78d5-4a7d-be15-44fe8d35f23c",
   "metadata": {},
   "outputs": [],
   "source": [
    "all_chapter_definitions = dict()"
   ]
  },
  {
   "cell_type": "code",
   "execution_count": 15,
   "id": "cea8513e-4ee5-4bab-8f89-dc34aad7c1b9",
   "metadata": {},
   "outputs": [
    {
     "data": {
      "application/vnd.jupyter.widget-view+json": {
       "model_id": "498984ca975b4a5988aa4447a2cad969",
       "version_major": 2,
       "version_minor": 0
      },
      "text/plain": [
       "  0%|          | 0/7 [00:00<?, ?it/s]"
      ]
     },
     "metadata": {},
     "output_type": "display_data"
    },
    {
     "data": {
      "application/vnd.jupyter.widget-view+json": {
       "model_id": "5d414dff934046f6854dec7a29927d12",
       "version_major": 2,
       "version_minor": 0
      },
      "text/plain": [
       "  0%|          | 0/5 [00:00<?, ?it/s]"
      ]
     },
     "metadata": {},
     "output_type": "display_data"
    },
    {
     "data": {
      "application/vnd.jupyter.widget-view+json": {
       "model_id": "88c060618011499295d6aad5f4e72891",
       "version_major": 2,
       "version_minor": 0
      },
      "text/plain": [
       "  0%|          | 0/7 [00:00<?, ?it/s]"
      ]
     },
     "metadata": {},
     "output_type": "display_data"
    },
    {
     "data": {
      "application/vnd.jupyter.widget-view+json": {
       "model_id": "31392bc6e0e741f292864a6f31964d6b",
       "version_major": 2,
       "version_minor": 0
      },
      "text/plain": [
       "  0%|          | 0/4 [00:00<?, ?it/s]"
      ]
     },
     "metadata": {},
     "output_type": "display_data"
    },
    {
     "data": {
      "application/vnd.jupyter.widget-view+json": {
       "model_id": "e29ef2c6561e49da878873e791690624",
       "version_major": 2,
       "version_minor": 0
      },
      "text/plain": [
       "  0%|          | 0/8 [00:00<?, ?it/s]"
      ]
     },
     "metadata": {},
     "output_type": "display_data"
    },
    {
     "data": {
      "application/vnd.jupyter.widget-view+json": {
       "model_id": "018aa4356f824ed5b1acd60c5705d639",
       "version_major": 2,
       "version_minor": 0
      },
      "text/plain": [
       "  0%|          | 0/7 [00:00<?, ?it/s]"
      ]
     },
     "metadata": {},
     "output_type": "display_data"
    },
    {
     "data": {
      "application/vnd.jupyter.widget-view+json": {
       "model_id": "b6d62f8dbce849e6a0631cb0525af497",
       "version_major": 2,
       "version_minor": 0
      },
      "text/plain": [
       "  0%|          | 0/8 [00:00<?, ?it/s]"
      ]
     },
     "metadata": {},
     "output_type": "display_data"
    },
    {
     "data": {
      "application/vnd.jupyter.widget-view+json": {
       "model_id": "b737a5bb4572459a936db8d94db437da",
       "version_major": 2,
       "version_minor": 0
      },
      "text/plain": [
       "  0%|          | 0/4 [00:00<?, ?it/s]"
      ]
     },
     "metadata": {},
     "output_type": "display_data"
    }
   ],
   "source": [
    "for name, urls in tqdm(all_urls.items()):\n",
    "    subsection_dict = dict()\n",
    "\n",
    "    for url in tqdm(urls):\n",
    "        subsection_name = url[51:]\n",
    "        subsection_definitions = []\n",
    "\n",
    "        response = requests.get(url)\n",
    "        response.raise_for_status()  \n",
    "        \n",
    "        soup = BeautifulSoup(response.content, 'html.parser')\n",
    "        \n",
    "        definition_difs = soup.find_all('div', class_='ui-has-child-title')\n",
    "        for element in definition_difs:\n",
    "            if (len(element) == 2):\n",
    "                header_name = element.find_all()[0].text.strip()\n",
    "                if (header_name != \"Definition\"):\n",
    "                    continue;\n",
    "                definition = element.find_all('div', class_='os-note-body')\n",
    "                subsection_definitions.append(definition[0].text.strip())\n",
    "        subsection_dict[subsection_name] = subsection_definitions\n",
    "    all_chapter_definitions[name] = subsection_dict"
   ]
  },
  {
   "cell_type": "code",
   "execution_count": 16,
   "id": "c7356b63-eeeb-43a0-980d-c85fef617485",
   "metadata": {},
   "outputs": [],
   "source": [
    "import pickle\n",
    "with open('all_chapter_definitions.bin', 'wb') as file:\n",
    "    pickle.dump(all_chapter_definitions, file)"
   ]
  },
  {
   "cell_type": "code",
   "execution_count": 17,
   "id": "471553d9-8e90-46c7-ab55-d8dbfae3fe13",
   "metadata": {},
   "outputs": [],
   "source": [
    "import json\n",
    "json_data = json.dumps(all_chapter_definitions, indent=4, ensure_ascii=False);\n",
    "with open('all_chapter_definitions.json', 'w') as file:\n",
    "    file.write(json_data)"
   ]
  },
  {
   "cell_type": "code",
   "execution_count": 18,
   "id": "25a988ba-c920-478d-85a2-da3a1d576d64",
   "metadata": {},
   "outputs": [
    {
     "name": "stdout",
     "output_type": "stream",
     "text": [
      "1-1-parametric-equations=>1\n",
      "1-2-calculus-of-parametric-curves=>0\n",
      "1-3-polar-coordinates=>0\n",
      "1-4-area-and-arc-length-in-polar-coordinates=>0\n",
      "1-5-conic-sections=>4\n",
      "2-1-vectors-in-the-plane=>6\n",
      "2-2-vectors-in-three-dimensions=>2\n",
      "2-3-the-dot-product=>4\n",
      "2-4-the-cross-product=>3\n",
      "2-5-equations-of-lines-and-planes-in-space=>1\n",
      "2-6-quadric-surfaces=>3\n",
      "2-7-cylindrical-and-spherical-coordinates=>2\n",
      "3-1-vector-valued-functions-and-space-curves=>3\n",
      "3-2-calculus-of-vector-valued-functions=>3\n",
      "3-3-arc-length-and-curvature=>2\n",
      "3-4-motion-in-space=>1\n",
      "4-1-functions-of-several-variables=>4\n",
      "4-2-limits-and-continuity=>8\n",
      "4-3-partial-derivatives=>2\n",
      "4-4-tangent-planes-and-linear-approximations=>6\n",
      "4-5-the-chain-rule=>0\n",
      "4-6-directional-derivatives-and-the-gradient=>4\n",
      "4-7-maxima-minima-problems=>3\n",
      "4-8-lagrange-multipliers=>0\n",
      "5-1-double-integrals-over-rectangular-regions=>4\n",
      "5-2-double-integrals-over-general-regions=>6\n",
      "5-3-double-integrals-in-polar-coordinates=>1\n",
      "5-4-triple-integrals=>1\n",
      "5-5-triple-integrals-in-cylindrical-and-spherical-coordinates=>2\n",
      "5-6-calculating-centers-of-mass-and-moments-of-inertia=>1\n",
      "5-7-change-of-variables-in-multiple-integrals=>3\n",
      "6-1-vector-fields=>2\n",
      "6-2-line-integrals=>3\n",
      "6-3-conservative-vector-fields=>3\n",
      "6-4-greens-theorem=>0\n",
      "6-5-divergence-and-curl=>2\n",
      "6-6-surface-integrals=>6\n",
      "6-7-stokes-theorem=>0\n",
      "6-8-the-divergence-theorem=>0\n",
      "7-1-second-order-linear-equations=>3\n",
      "7-2-nonhomogeneous-linear-equations=>1\n",
      "7-3-applications=>0\n",
      "7-4-series-solutions-of-differential-equations=>0\n"
     ]
    }
   ],
   "source": [
    "count = 0\n",
    "for a,b in all_chapter_definitions.items():\n",
    "    for x,y in b.items():\n",
    "        print(x + \"=>\"+ str(len(y)))\n",
    "        count+= len(y)"
   ]
  },
  {
   "cell_type": "code",
   "execution_count": 19,
   "id": "3d69fd49-b12a-4992-b398-63dfe9e1f648",
   "metadata": {},
   "outputs": [
    {
     "data": {
      "text/plain": [
       "100"
      ]
     },
     "execution_count": 19,
     "metadata": {},
     "output_type": "execute_result"
    }
   ],
   "source": [
    "count"
   ]
  },
  {
   "cell_type": "code",
   "execution_count": null,
   "id": "ff43443f-68de-461d-8776-cda4f1367a4d",
   "metadata": {},
   "outputs": [],
   "source": []
  }
 ],
 "metadata": {
  "kernelspec": {
   "display_name": "crystal-llm",
   "language": "python",
   "name": "crystal-llm"
  },
  "language_info": {
   "codemirror_mode": {
    "name": "ipython",
    "version": 3
   },
   "file_extension": ".py",
   "mimetype": "text/x-python",
   "name": "python",
   "nbconvert_exporter": "python",
   "pygments_lexer": "ipython3",
   "version": "3.12.1"
  }
 },
 "nbformat": 4,
 "nbformat_minor": 5
}
