{
 "cells": [
  {
   "cell_type": "code",
   "execution_count": 2,
   "id": "3ae07c61-5396-415a-a728-ae9c63b8e043",
   "metadata": {},
   "outputs": [],
   "source": [
    "from openai import OpenAI\n",
    "import pathlib\n",
    "import textwrap\n",
    "import os\n",
    "import time\n",
    "from tqdm.notebook import tqdm\n",
    "from IPython.display import display\n",
    "from IPython.display import Markdown\n",
    "import json"
   ]
  },
  {
   "cell_type": "code",
   "execution_count": 3,
   "id": "1eeb7dcd-2c4b-452e-84ed-f990358c2678",
   "metadata": {},
   "outputs": [],
   "source": [
    "client = OpenAI(\n",
    "  organization='org-MiSTdq8wllMVuvQ1Es4GrHNX',\n",
    "  project='proj_rO8d3QjByeL5WcL1nApaiy5B',\n",
    ")"
   ]
  },
  {
   "cell_type": "code",
   "execution_count": 4,
   "id": "0482d306-7a31-430b-806c-7c763fab44f0",
   "metadata": {},
   "outputs": [],
   "source": [
    "with open('./data/LinearLecNotes_Definitions.json', 'r') as f:\n",
    "    data = json.load(f)"
   ]
  },
  {
   "cell_type": "code",
   "execution_count": 5,
   "id": "34f23301-9c3f-4c36-9caa-de7f6815675c",
   "metadata": {},
   "outputs": [],
   "source": [
    "def get_json(content_id, prompt):\n",
    "    sample = {\"custom_id\": f\"{content_id}\",\n",
    "              \"method\": \"POST\",\n",
    "              \"url\": \"/v1/chat/completions\",\n",
    "              \"body\": {\"model\": \"gpt-4o\",\n",
    "                       \"messages\": [{\"role\": \"user\", \n",
    "                                     \"content\": prompt}],\n",
    "                       \"max_tokens\": 1500,\n",
    "                       \"temperature\": 0.1,\n",
    "                       \"top_p\":1,\n",
    "                       \"frequency_penalty\":0,\n",
    "                       \"presence_penalty\":0}}\n",
    "    return sample"
   ]
  },
  {
   "cell_type": "code",
   "execution_count": 6,
   "id": "ef710eb8-1c03-42a2-b333-bc1760d7be38",
   "metadata": {
    "scrolled": true
   },
   "outputs": [],
   "source": [
    "contents = []\n",
    "for chapter, sections in (data.items()):\n",
    "    for section, section_definitions in (sections.items()):\n",
    "        i = 1;\n",
    "        for q in (section_definitions):\n",
    "            content_id = (chapter+\"|\"+section+\"|\"+str(i))\n",
    "            i+=1\n",
    "            message = fr\"\"\"Please convert the above definition into a conceptual true or false question with the answer and detailed explanation. The question must test the conceptual understanding of the concept presented. Your explanation must be concise but include an explanation of the main concepts used and use examples to illustrate these concepts. Use latex as required while only using the \"$\" delimiter. Do not ever create a newline in your output. Make sure the final output is in JSON format with three fields, \"question\", \"answer\" and \"explanation\". Definition: {q}\"\"\"\n",
    "            contents.append(get_json(content_id, message))\n",
    "            "
   ]
  },
  {
   "cell_type": "code",
   "execution_count": 307,
   "id": "90ba7fc9-7c7b-4bcb-81e4-5cf234f5857e",
   "metadata": {},
   "outputs": [],
   "source": [
    "with open('batches/batch_files/batch02_LinearTest_temp0-25.jsonl', 'w') as f:\n",
    "    for record in contents:\n",
    "        json_record = json.dumps(record)\n",
    "        f.write(json_record + '\\n')"
   ]
  },
  {
   "cell_type": "code",
   "execution_count": 308,
   "id": "3023c2cd-a37c-4fbe-a68c-c2634a8376fe",
   "metadata": {},
   "outputs": [],
   "source": [
    "from openai import OpenAI\n",
    "\n",
    "batch_input_file = client.files.create(\n",
    "  file=open(\"batches/batch_files/batch02_LinearTest_temp0-25.jsonl\", \"rb\"),\n",
    "  purpose=\"batch\"\n",
    ")"
   ]
  },
  {
   "cell_type": "code",
   "execution_count": 309,
   "id": "51af845b-3be1-41a6-9286-f831f4cb6466",
   "metadata": {},
   "outputs": [
    {
     "data": {
      "text/plain": [
       "'file-DFQOPFvM4fP36Q1rViyd57Fu'"
      ]
     },
     "execution_count": 309,
     "metadata": {},
     "output_type": "execute_result"
    }
   ],
   "source": [
    "batch_input_file_id = batch_input_file.id\n",
    "batch_input_file_id"
   ]
  },
  {
   "cell_type": "code",
   "execution_count": 310,
   "id": "7f33f6e7-27d1-417d-8f56-bbfecfdf1ba3",
   "metadata": {},
   "outputs": [],
   "source": [
    "batch = client.batches.create(\n",
    "    input_file_id=batch_input_file_id,\n",
    "    endpoint=\"/v1/chat/completions\",\n",
    "    completion_window=\"24h\",\n",
    "    metadata={\n",
    "      \"description\": \"t/f questions - 102 - linear - w/content_id - fixed delimiters and newlines\"\n",
    "    }\n",
    ")\n",
    "batch_id = batch.id"
   ]
  },
  {
   "cell_type": "code",
   "execution_count": 315,
   "id": "57d33d63-c92d-4460-acfd-2d19dbe4d802",
   "metadata": {},
   "outputs": [
    {
     "data": {
      "text/plain": [
       "Batch(id='batch_gLjmav6A70pbOCnEwnFOIHp2', completion_window='24h', created_at=1720547940, endpoint='/v1/chat/completions', input_file_id='file-DFQOPFvM4fP36Q1rViyd57Fu', object='batch', status='completed', cancelled_at=None, cancelling_at=None, completed_at=1720547963, error_file_id=None, errors=None, expired_at=None, expires_at=1720634340, failed_at=None, finalizing_at=1720547959, in_progress_at=1720547941, metadata={'description': 't/f questions - 102 - linear - w/content_id - fixed delimiters and newlines'}, output_file_id='file-nUHTaZaPHGNUXz54TexcwWus', request_counts=BatchRequestCounts(completed=102, failed=0, total=102))"
      ]
     },
     "execution_count": 315,
     "metadata": {},
     "output_type": "execute_result"
    }
   ],
   "source": [
    "batch = client.batches.retrieve(batch_id)\n",
    "batch"
   ]
  },
  {
   "cell_type": "code",
   "execution_count": 316,
   "id": "724b722d-40ee-4d1f-9f42-102c83e4edb5",
   "metadata": {},
   "outputs": [],
   "source": [
    "output_file_id = batch.output_file_id\n",
    "content = client.files.content(output_file_id)"
   ]
  },
  {
   "cell_type": "code",
   "execution_count": 317,
   "id": "b1b25e58-b295-4029-8106-8227346aea32",
   "metadata": {},
   "outputs": [],
   "source": [
    "with open(\"./batches/batch_responses/tf_linear_0temp.jsonl\", \"w\") as f:\n",
    "    f.write(content.content.decode(\"utf-8\"))"
   ]
  },
  {
   "cell_type": "code",
   "execution_count": 348,
   "id": "62f913e7-32d5-45ac-aed8-6691da950c21",
   "metadata": {},
   "outputs": [],
   "source": [
    "questions = []\n",
    "with open(\"./batches/batch_responses/tf_linear_0temp.jsonl\", \"r\") as file:\n",
    "    for line in file:\n",
    "        json_object = json.loads(line)\n",
    "        q = json_object['response']['body']['choices'][0][\"message\"][\"content\"]\n",
    "        q = q.replace(\"`\", \"\").replace(\"json\", \"\").replace(\"\\n\", \"\")\n",
    "        try:\n",
    "            questions.append(json.loads(q))\n",
    "        except:\n",
    "            q = q.replace(\"\\\\\", \"\\\\\\\\\")\n",
    "            questions.append(json.loads(q))"
   ]
  },
  {
   "cell_type": "code",
   "execution_count": 349,
   "id": "c68d0b01-f02b-4ca9-b38b-9b0d1a458949",
   "metadata": {},
   "outputs": [
    {
     "name": "stdout",
     "output_type": "stream",
     "text": [
      "A vector $\\vec y$ is considered a linear combination of vectors $\\vec v_1, \\vec v_2, \\dotsc, \\vec v_p$ if it can be expressed in the form $\\vec y = c_1 \\vec v_1 + c_2 \\vec v_2 + \\cdots + c_p \\vec v_p$, where $c_1, c_2, \\dotsc, c_p$ are scalars. In this case, $\\vec y = 3\\vec v_1 - 2\\vec v_2 + 0\\vec v_3$ fits this definition with weights 3, -2, and 0. Therefore, the statement is true. For example, if $\\vec v_1 = \\begin{pmatrix}1 \\\\ 0\\end{pmatrix}$, $\\vec v_2 = \\begin{pmatrix}0 \\\\ 1\\end{pmatrix}$, and $\\vec v_3 = \\begin{pmatrix}1 \\\\ 1\\end{pmatrix}$, then $\\vec y = 3\\begin{pmatrix}1 \\\\ 0\\end{pmatrix} - 2\\begin{pmatrix}0 \\\\ 1\\end{pmatrix} + 0\\begin{pmatrix}1 \\\\ 1\\end{pmatrix} = \\begin{pmatrix}3 \\\\ -2\\end{pmatrix}$, which is a linear combination of $\\vec v_1, \\vec v_2, \\vec v_3$.\n"
     ]
    }
   ],
   "source": [
    "formeted = (questions[3]['explanation'])\n",
    "print(formeted)"
   ]
  },
  {
   "cell_type": "code",
   "execution_count": 350,
   "id": "cb1ba97d-3498-46a1-9bb4-3b9503666481",
   "metadata": {},
   "outputs": [
    {
     "data": {
      "application/vnd.jupyter.widget-view+json": {
       "model_id": "34bc0fc800134ae08bfd788147a3a8ed",
       "version_major": 2,
       "version_minor": 0
      },
      "text/plain": [
       "  0%|          | 0/102 [00:00<?, ?it/s]"
      ]
     },
     "metadata": {},
     "output_type": "display_data"
    }
   ],
   "source": [
    "formatted_questions = {}\n",
    "fq = []\n",
    "i = 0;\n",
    "for q in tqdm(questions):\n",
    "    i+=1;\n",
    "    try:\n",
    "        formatted_response = f\"\"\"\n",
    "            \\\\textbf {{Question: {i}}} {q['question']}\n",
    "            \n",
    "            \\\\textbf{{Answer:}} {q['answer']}\n",
    "    \n",
    "            \\\\textbf{{Explanation:}} {q['explanation']}\n",
    "            \n",
    "            \\\\vspace{{0.5cm}} \n",
    "    \n",
    "        \"\"\"\n",
    "    except:\n",
    "        print(q);\n",
    "    fq.append(formatted_response)"
   ]
  },
  {
   "cell_type": "code",
   "execution_count": 351,
   "id": "46ba96c2-cd88-477f-889a-400412f4844b",
   "metadata": {},
   "outputs": [],
   "source": [
    "fff = ''.join(fq[:])\n",
    "f = open(\"problems/problemset.tex\", \"r\")\n",
    "p = f.read()\n",
    "part = list(p.rpartition(\"\\\\vspace{1cm}\"))\n",
    "final = ''.join(part[0:2])\n",
    "final = final + fff + part[2]\n",
    "f = open(\"problems/102batch_linear_0temp.tex\", \"w\")\n",
    "f.write(final)\n",
    "f.close()"
   ]
  },
  {
   "cell_type": "code",
   "execution_count": 345,
   "id": "07c0a099-c827-44d5-a4c5-51ddac77f52c",
   "metadata": {},
   "outputs": [
    {
     "data": {
      "text/plain": [
       "'\\n            \\\\textbf {Question: 102} True or False: If a symmetric matrix $A$ has both positive and negative eigenvalues, then the quadratic form $Q = \\\\vec{x}^{\\\\,T} A \\\\vec{x}$ is positive definite.\\n            \\n            \\\\textbf{Answer:} False\\n    \\n            \\\\textbf{Explanation:} A symmetric matrix $A$ with both positive and negative eigenvalues means that the quadratic form $Q = \\\\vec{x}^{\\\\,T} A \\\\vec{x}$ is indefinite. This is because a positive definite matrix requires all eigenvalues to be positive, and a negative definite matrix requires all eigenvalues to be negative. When there are both positive and negative eigenvalues, the quadratic form can take both positive and negative values, making it indefinite. For example, if $A$ has eigenvalues $\\\\lambda_1 = 2$ and $\\\\lambda_2 = -3$, then $Q$ can be positive for some vectors $\\\\vec{x}$ and negative for others.\\n            \\n            \\\\vspace{0.5cm} \\n    \\n        '"
      ]
     },
     "execution_count": 345,
     "metadata": {},
     "output_type": "execute_result"
    }
   ],
   "source": [
    "(formatted_response)"
   ]
  },
  {
   "cell_type": "code",
   "execution_count": null,
   "id": "d84fa160-0609-4061-a901-25c0a6220c98",
   "metadata": {},
   "outputs": [],
   "source": []
  }
 ],
 "metadata": {
  "kernelspec": {
   "display_name": "question-generator (myenv)",
   "language": "python",
   "name": "question-generator"
  },
  "language_info": {
   "codemirror_mode": {
    "name": "ipython",
    "version": 3
   },
   "file_extension": ".py",
   "mimetype": "text/x-python",
   "name": "python",
   "nbconvert_exporter": "python",
   "pygments_lexer": "ipython3",
   "version": "3.12.4"
  }
 },
 "nbformat": 4,
 "nbformat_minor": 5
}
