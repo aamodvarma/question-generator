{
 "cells": [
  {
   "cell_type": "code",
   "execution_count": 1,
   "id": "3ae07c61-5396-415a-a728-ae9c63b8e043",
   "metadata": {},
   "outputs": [],
   "source": [
    "from openai import OpenAI\n",
    "import pathlib\n",
    "import textwrap\n",
    "import os\n",
    "import time\n",
    "import random\n",
    "from tqdm.notebook import tqdm\n",
    "import json\n",
    "from datetime import datetime"
   ]
  },
  {
   "cell_type": "code",
   "execution_count": 2,
   "id": "1eeb7dcd-2c4b-452e-84ed-f990358c2678",
   "metadata": {},
   "outputs": [],
   "source": [
    "client = OpenAI(\n",
    "  organization='org-MiSTdq8wllMVuvQ1Es4GrHNX',\n",
    "  project='proj_rO8d3QjByeL5WcL1nApaiy5B',\n",
    ")"
   ]
  },
  {
   "cell_type": "code",
   "execution_count": 3,
   "id": "0482d306-7a31-430b-806c-7c763fab44f0",
   "metadata": {},
   "outputs": [],
   "source": [
    "input_file = \"LinearFill\"\n",
    "with open('./data/' + input_file + '.json', 'r') as f:\n",
    "    data = json.load(f)"
   ]
  },
  {
   "cell_type": "code",
   "execution_count": 4,
   "id": "34f23301-9c3f-4c36-9caa-de7f6815675c",
   "metadata": {},
   "outputs": [],
   "source": [
    "def get_json(content_id, prompt):\n",
    "    sample = {\"custom_id\": f\"{content_id}\",\n",
    "              \"method\": \"POST\",\n",
    "              \"url\": \"/v1/chat/completions\",\n",
    "              \"body\": {\"model\": \"gpt-4o\",\n",
    "                       \"messages\": [{\"role\": \"user\", \n",
    "                                     \"content\": prompt}],\n",
    "                       \"max_tokens\": 1500,\n",
    "                       \"temperature\": 1,\n",
    "                       \"top_p\": 1,\n",
    "                       \"frequency_penalty\":0,\n",
    "                       \"presence_penalty\":0}}\n",
    "    return sample"
   ]
  },
  {
   "cell_type": "code",
   "execution_count": 6,
   "id": "ef710eb8-1c03-42a2-b333-bc1760d7be38",
   "metadata": {
    "scrolled": true
   },
   "outputs": [],
   "source": [
    "def definitions():\n",
    "    contents = []\n",
    "    for chapter, sections in (data.items()):\n",
    "        for section, section_definitions in (sections.items()):\n",
    "            i = 1;\n",
    "            for q in (section_definitions):\n",
    "                content_id = (chapter+\"|\"+section+\"|\"+str(i))\n",
    "                i+=1\n",
    "                dec = random.choice([\"true\", \"false\"])\n",
    "                # message = fr\"\"\"Please convert the above definition into a conceptual true or false question with the answer and explanation. The question must test the conceptual understanding of the concept presented, so don't just copy the question and make it trivial. Your explanation must be concise but include an example to illustrate these concepts. Use latex as required while only using the \"$\" delimiter. Do not ever create a newline in your output. Make sure the final output is in JSON format with three fields, \"question\", \"answer\" and \"explanation\". Definition: {q}. Make the answer {dec} in this case.\"\"\"\n",
    "                message = fr\"\"\"I will give you a true/false multivariable calculus question. Your job is to transform this question into a new one. If it has numerical values, slightly change them but keep the accuracy correct. You must also give an explanation that is concise but includes the main concepts used. Use examples to illustrate these concepts. Use latex as required while only using the \"$\" delimiter. Do not ever create a newline in your output. Make sure the final output is in JSON format with three fields, \"question\", \"answer\" and \"explanation\". Question: {q['question'].strip()}. The answer is {q['answer'].strip()}.\"\"\"\n",
    "    \n",
    "                contents.append(get_json(content_id, message))\n",
    "    return contents\n",
    "def fill_in_the_blanks():\n",
    "    contents = []\n",
    "    for exam, questions in (data.items()):\n",
    "        for name, q in questions.items():\n",
    "            i = 1\n",
    "            for a in q:\n",
    "                content_id = exam+\"|\" + name + \"|\" + str(i)\n",
    "                i+=1;\n",
    "                message = fr\"\"\"I will give you a question and answer, your job is to create another question similar to this. The new questions should be similar but not the same. Your new question should have different values, structure etc. But all in all should test the same concept. Make sure to be more creative in how you test the concept. \n",
    "                Here is the question, Question: {a[\"question\"]}\\n Answer: {a[\"answer\"]}. \n",
    "                Use latex as required while only using the \"$\" delimiter. Do not ever create a newline in your output. Make sure the final output is in JSON format with two fields, \"question\" and \"answer.\"\n",
    "                \"\"\"\n",
    "                contents.append(get_json(content_id, message))\n",
    "    return contents\n",
    "    #     for question, section_definitions in (sections.items()):\n",
    "    #         i = 1;\n",
    "    #         for q in (section_definitions):\n",
    "    #             content_id = (chapter+\"|\"+section+\"|\"+str(i))\n",
    "    #             i+=1\n",
    "    #             dec = random.choice([\"true\", \"false\"])\n",
    "    #             # message = fr\"\"\"Please convert the above definition into a conceptual true or false question with the answer and explanation. The question must test the conceptual understanding of the concept presented, so don't just copy the question and make it trivial. Your explanation must be concise but include an example to illustrate these concepts. Use latex as required while only using the \"$\" delimiter. Do not ever create a newline in your output. Make sure the final output is in JSON format with three fields, \"question\", \"answer\" and \"explanation\". Definition: {q}. Make the answer {dec} in this case.\"\"\"\n",
    "    #             message = fr\"\"\"I will give you a true/false multivariable calculus question. Your job is to transform this question into a new one. If it has numerical values, slightly change them but keep the accuracy correct. You must also give an explanation that is concise but includes the main concepts used. Use examples to illustrate these concepts. Use latex as required while only using the \"$\" delimiter. Do not ever create a newline in your output. Make sure the final output is in JSON format with three fields, \"question\", \"answer\" and \"explanation\". Question: {q['question'].strip()}. The answer is {q['answer'].strip()}.\"\"\"\n",
    "    # # \n",
    "    #             contents.append(get_json(content_id, message))\n",
    "    # return contents\n",
    "    "
   ]
  },
  {
   "cell_type": "code",
   "execution_count": 7,
   "id": "fbba4875-d2de-4b35-80a8-207203b5e86b",
   "metadata": {},
   "outputs": [],
   "source": [
    "now = datetime.now()\n",
    "unique_id = now.strftime(\"%Y%m%d_%H%M\")"
   ]
  },
  {
   "cell_type": "code",
   "execution_count": 8,
   "id": "90ba7fc9-7c7b-4bcb-81e4-5cf234f5857e",
   "metadata": {},
   "outputs": [],
   "source": [
    "#contents = definitions()\n",
    "contents = fill_in_the_blanks()\n",
    "content_file = input_file + \"_\" + unique_id\n",
    "with open(f'batches/batch_files/{content_file}.jsonl', 'w') as f:\n",
    "    for record in contents:\n",
    "        json_record = json.dumps(record)\n",
    "        f.write(json_record + '\\n')"
   ]
  },
  {
   "cell_type": "code",
   "execution_count": 9,
   "id": "3023c2cd-a37c-4fbe-a68c-c2634a8376fe",
   "metadata": {},
   "outputs": [],
   "source": [
    "from openai import OpenAI\n",
    "\n",
    "batch_input_file = client.files.create(\n",
    "  file=open(f\"batches/batch_files/{content_file}.jsonl\", \"rb\"),\n",
    "  purpose=\"batch\"\n",
    ")"
   ]
  },
  {
   "cell_type": "code",
   "execution_count": 10,
   "id": "51af845b-3be1-41a6-9286-f831f4cb6466",
   "metadata": {},
   "outputs": [
    {
     "data": {
      "text/plain": [
       "'file-x4vINExPopfIdpOv9rabmtLn'"
      ]
     },
     "execution_count": 10,
     "metadata": {},
     "output_type": "execute_result"
    }
   ],
   "source": [
    "batch_input_file_id = batch_input_file.id\n",
    "batch_input_file_id"
   ]
  },
  {
   "cell_type": "code",
   "execution_count": 28,
   "id": "7f33f6e7-27d1-417d-8f56-bbfecfdf1ba3",
   "metadata": {},
   "outputs": [],
   "source": [
    "batch = client.batches.create(\n",
    "    input_file_id=batch_input_file_id,\n",
    "    endpoint=\"/v1/chat/completions\",\n",
    "    completion_window=\"24h\",\n",
    "    metadata={\n",
    "      \"description\": f\"{content_file}\"\n",
    "    }\n",
    ")\n",
    "batch_id = batch.id"
   ]
  },
  {
   "cell_type": "code",
   "execution_count": 39,
   "id": "768c5d2c-fc42-4297-b35c-067efb3effe7",
   "metadata": {},
   "outputs": [
    {
     "data": {
      "text/plain": [
       "Batch(id='batch_6710605b8ca0819087df79f5d6fbdf10', completion_window='24h', created_at=1729126491, endpoint='/v1/chat/completions', input_file_id='file-x4vINExPopfIdpOv9rabmtLn', object='batch', status='cancelling', cancelled_at=None, cancelling_at=1729127359, completed_at=None, error_file_id=None, errors=None, expired_at=None, expires_at=1729212891, failed_at=None, finalizing_at=None, in_progress_at=1729126492, metadata={'description': 'LinearFill_20241016_2010'}, output_file_id=None, request_counts=BatchRequestCounts(completed=0, failed=0, total=107))"
      ]
     },
     "execution_count": 39,
     "metadata": {},
     "output_type": "execute_result"
    }
   ],
   "source": [
    "batch = client.batches.retrieve(batch_id)\n",
    "batch"
   ]
  },
  {
   "cell_type": "code",
   "execution_count": 40,
   "id": "57d33d63-c92d-4460-acfd-2d19dbe4d802",
   "metadata": {},
   "outputs": [
    {
     "data": {
      "text/plain": [
       "Batch(id='batch_671055e298208190a077a707cf077dad', completion_window='24h', created_at=1729123810, endpoint='/v1/chat/completions', input_file_id='file-x4vINExPopfIdpOv9rabmtLn', object='batch', status='in_progress', cancelled_at=None, cancelling_at=None, completed_at=None, error_file_id=None, errors=None, expired_at=None, expires_at=1729210210, failed_at=None, finalizing_at=None, in_progress_at=1729123811, metadata={'description': 'LinearFill_20241016_2010'}, output_file_id=None, request_counts=BatchRequestCounts(completed=0, failed=0, total=107))"
      ]
     },
     "execution_count": 40,
     "metadata": {},
     "output_type": "execute_result"
    }
   ],
   "source": [
    "batch = client.batches.retrieve(\"batch_671055e298208190a077a707cf077dad\")\n",
    "batch"
   ]
  },
  {
   "cell_type": "code",
   "execution_count": 16,
   "id": "724b722d-40ee-4d1f-9f42-102c83e4edb5",
   "metadata": {},
   "outputs": [],
   "source": [
    "output_file_id = batch.output_file_id\n",
    "content = client.files.content(output_file_id)"
   ]
  },
  {
   "cell_type": "code",
   "execution_count": 17,
   "id": "b1b25e58-b295-4029-8106-8227346aea32",
   "metadata": {},
   "outputs": [],
   "source": [
    "with open(f\"./batches/batch_responses/{content_file}.jsonl\", \"w\") as f:\n",
    "    f.write(content.content.decode(\"utf-8\"))"
   ]
  },
  {
   "cell_type": "code",
   "execution_count": 19,
   "id": "62f913e7-32d5-45ac-aed8-6691da950c21",
   "metadata": {},
   "outputs": [
    {
     "name": "stdout",
     "output_type": "stream",
     "text": [
      "{  \"question\": \"The equation of the tangent plane to the surface $z = 10 + 3x^2 - y^2$ at $Q(1,2,11)$ is $ \\\\\\\\framebox{\\\\\\\\strut\\\\\\\\hspace{3.5cm}}.$\",  \"answer\": \"Set $z = g(x,y) = 10 + 3x^2 - y^2$. Then \\\\\\\\begin{align*} g_x &= 6x , \\\\\\\\ g_x(1,2) = 6 \\\\\\\\ g_y &= -2y , \\\\\\\\ g_y(1,2) = -4 \\\\\\\\end{align*} Use the formula for the equation to a tangent plane, at a point $Q(x_0,y_0)$, to a surface of the form $z = g(x,y)$. \\\\\\\\begin{align*} (z-z_0) &= g_x(x_0,y_0) (x-x_0) + g_y(x_0,y_0) (y-y_0) \\\\\\\\ z- 11 &= g_x(1,2)(x-1) + g_y(1,2)(y-2) \\\\\\\\ z &= 6(x-1) -4(y-2) \\\\\\\\end{align*} The above is sufficient but we can simplify to $z = 6x - 4y + 3$.}\n"
     ]
    }
   ],
   "source": [
    "questions = []\n",
    "with open(f\"./batches/batch_responses/{content_file}.jsonl\", \"r\") as file:\n",
    "    for line in file:\n",
    "        json_object = json.loads(line)\n",
    "        custom_id = json_object['custom_id'].split('|')\n",
    "        q = json_object['response']['body']['choices'][0][\"message\"][\"content\"]\n",
    "        q = q.replace(\"`\", \"\").replace(\"json\", \"\").replace(\"\\n\", \"\")\n",
    "        q = q.replace(\"\\\\\\\\\", \"\\\\\").replace(\"\\\\\", \"\\\\\\\\\")\n",
    "  \n",
    "        try:\n",
    "            json_question = json.loads(q)\n",
    "        except:\n",
    "            q = q.replace(\"\\\\\", \"\\\\\\\\\")\n",
    "            print(q)\n",
    "            try:\n",
    "                json_question = json.loads(q)\n",
    "            except:\n",
    "                pass\n",
    "        json_question['chapter'] = custom_id[0]\n",
    "        json_question['section'] = custom_id[1]\n",
    "        json_question['number'] = custom_id[2]\n",
    "        questions.append(json_question)"
   ]
  },
  {
   "cell_type": "code",
   "execution_count": 23,
   "id": "2bd18dc9-5971-416c-bfdf-1981f7c2d392",
   "metadata": {},
   "outputs": [
    {
     "data": {
      "text/plain": [
       "{'question': 'The maximum value of $w(a,b) = 5a + 7b$ subject to $a^2 + 3b^2 = 18$ is located at a point where $a = \\\\framebox{\\\\strut\\\\hspace{1cm}}$, and $b =  \\\\framebox{\\\\strut\\\\hspace{1cm}}$.\\\\n',\n",
       " 'answer': 'Set $h = a^2 + 3b^2 - 18 = 0$, and set $\\\\nabla w = \\\\mu \\\\nabla h$. Then\\\\n\\\\begin{align*}\\\\n\\\\langle 5,7\\\\rangle &= \\\\mu \\\\langle 2a, 6b\\\\rangle \\\\n\\\\end{align*}\\\\nFrom which we derive:\\\\n\\\\begin{align*}\\\\na &= \\\\frac{5}{2\\\\mu} \\\\quad \\\\text{and} \\\\quad b = \\\\frac{7}{6\\\\mu}\\\\n\\\\end{align*}\\\\nSubstitute into the constraint equation:\\\\n\\\\begin{align*}\\\\n18 &= \\\\left(\\\\frac{5}{2\\\\mu}\\\\right)^2 + 3 \\\\left(\\\\frac{7}{6\\\\mu}\\\\right)^2 \\\\\\\\n18\\\\mu^2 &= \\\\frac{25}{4} + \\\\frac{49}{12} \\\\\\\\n18\\\\mu^2 &= \\\\frac{75+49}{12} \\\\\\\\n18\\\\mu^2 &= \\\\frac{124}{12} \\\\\\\\n\\\\mu^2 &= \\\\frac{124}{216} \\\\\\\\n\\\\mu^2 &= \\\\frac{31}{54} \\\\\\\\n\\\\mu &= \\\\pm \\\\sqrt{\\\\frac{31}{54}} = \\\\pm \\\\frac{\\\\sqrt{31}}{\\\\sqrt{54}}\\\\n\\\\end{align*}\\\\nSubstitute back to find $a$ and $b$:\\\\n\\\\begin{align*}\\\\na & = \\\\frac{5}{2 \\\\times \\\\pm \\\\frac{\\\\sqrt{31}}{\\\\sqrt{54}}} \\\\approx \\\\pm \\\\text{formatted number for  } a \\\\\\\\nb & = \\\\frac{7}{6 \\\\times \\\\pm \\\\frac{\\\\sqrt{31}}{\\\\sqrt{54}}} \\\\approx \\\\pm \\\\text{formatted number for  } b\\\\\\\\n\\\\end{align*}Since we are looking for the maximum value, and because $w = 5a + 7b$, the maximum occurs when both $a$ and $b$ are positive.',\n",
       " 'chapter': 'Exam2',\n",
       " 'section': 'FillInTheBlankSet7.tex',\n",
       " 'number': '1'}"
      ]
     },
     "execution_count": 23,
     "metadata": {},
     "output_type": "execute_result"
    }
   ],
   "source": [
    "questions[0]"
   ]
  },
  {
   "cell_type": "code",
   "execution_count": 27,
   "id": "c68d0b01-f02b-4ca9-b38b-9b0d1a458949",
   "metadata": {},
   "outputs": [],
   "source": [
    "all_questions =  dict()\n",
    "for q in questions:\n",
    "    chapter = q['chapter']\n",
    "    section = q['section']\n",
    "    if (chapter not in all_questions):\n",
    "        all_questions[chapter] = dict()\n",
    "    if (section not in all_questions[chapter]):\n",
    "        all_questions[chapter][section] = []\n",
    "    try:\n",
    "        all_questions[chapter][section].append({\"question\" : q['question'], \"answer\" : q['answer']})\n",
    "    except:\n",
    "        continue"
   ]
  },
  {
   "cell_type": "code",
   "execution_count": 28,
   "id": "d84fa160-0609-4061-a901-25c0a6220c98",
   "metadata": {},
   "outputs": [],
   "source": [
    "with open(f\"./generated_files/{content_file}.json\", \"w\") as file:\n",
    "    json.dump(all_questions, file)"
   ]
  },
  {
   "cell_type": "code",
   "execution_count": null,
   "id": "e9b4b855-5caf-4118-b162-524cd4cd0d9d",
   "metadata": {},
   "outputs": [],
   "source": []
  }
 ],
 "metadata": {
  "kernelspec": {
   "display_name": "question-generator (myenv)",
   "language": "python",
   "name": "question-generator"
  },
  "language_info": {
   "codemirror_mode": {
    "name": "ipython",
    "version": 3
   },
   "file_extension": ".py",
   "mimetype": "text/x-python",
   "name": "python",
   "nbconvert_exporter": "python",
   "pygments_lexer": "ipython3",
   "version": "3.12.4"
  }
 },
 "nbformat": 4,
 "nbformat_minor": 5
}
