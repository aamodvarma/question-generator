{
 "cells": [
  {
   "cell_type": "code",
   "execution_count": 1,
   "id": "5971812d-0382-4d5d-bb03-02b43cbc12be",
   "metadata": {},
   "outputs": [],
   "source": [
    "import os\n",
    "import time\n",
    "from tqdm.notebook import tqdm\n",
    "import re\n",
    "import json"
   ]
  },
  {
   "cell_type": "code",
   "execution_count": 2,
   "id": "ebde04b2-6415-4ce6-8979-6caae5f35cb1",
   "metadata": {},
   "outputs": [],
   "source": [
    "with open(\"../data/2551_TF_Bank.tex\") as f:\n",
    "    x = f.read()"
   ]
  },
  {
   "cell_type": "code",
   "execution_count": 12,
   "id": "9d32dd6b-1399-46b3-b648-c4ed395a90ea",
   "metadata": {},
   "outputs": [],
   "source": [
    "frame_regex = r'(\\\\section\\{.*?\\}[\\s\\S]*?)(?=\\\\section)'\n",
    "matches = re.findall(frame_regex, x, re.DOTALL)"
   ]
  },
  {
   "cell_type": "code",
   "execution_count": 36,
   "id": "7b4eb808-33cd-4da3-a013-d58b865e341b",
   "metadata": {},
   "outputs": [],
   "source": [
    "final = {\"chapter\" : {}}"
   ]
  },
  {
   "cell_type": "code",
   "execution_count": 40,
   "id": "9cfda3d3-0a8a-4edd-a5a5-152d4badd6be",
   "metadata": {},
   "outputs": [],
   "source": [
    "n = 0\n",
    "for a in matches:\n",
    "    section = a.split(\"\\n\")[0][9:-1]\n",
    "    ques_regex = r\"\\\\question(.*?)\\\\begin{solution}\"\n",
    "    ques_matches = re.findall(ques_regex, a, re.DOTALL)\n",
    "    ans_regex = r\"\\\\textbf\\{(.*?)\\}\"\n",
    "    ans_matches = re.findall(ans_regex, a, re.DOTALL)\n",
    "    \n",
    "    final['chapter'][section] = []\n",
    "    for a,b in zip(ques_matches, ans_matches):\n",
    "        final['chapter'][section].append({\"question\": a, \"answer\": b})\n",
    "        n+=1"
   ]
  },
  {
   "cell_type": "code",
   "execution_count": 42,
   "id": "2b1b56e7-eec4-4b74-b1fe-44ec315c9dcc",
   "metadata": {},
   "outputs": [],
   "source": [
    "with open (\"../data/2551_TF_Q.json\", \"w\") as f:\n",
    "    json.dump(final, f, indent = 4)"
   ]
  },
  {
   "cell_type": "code",
   "execution_count": null,
   "id": "cc7e50b0-c769-44bd-8b13-46c608f01fe9",
   "metadata": {},
   "outputs": [],
   "source": []
  }
 ],
 "metadata": {
  "kernelspec": {
   "display_name": "question-generator (myenv)",
   "language": "python",
   "name": "question-generator"
  },
  "language_info": {
   "codemirror_mode": {
    "name": "ipython",
    "version": 3
   },
   "file_extension": ".py",
   "mimetype": "text/x-python",
   "name": "python",
   "nbconvert_exporter": "python",
   "pygments_lexer": "ipython3",
   "version": "3.12.4"
  }
 },
 "nbformat": 4,
 "nbformat_minor": 5
}
