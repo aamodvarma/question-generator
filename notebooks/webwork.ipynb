{
 "cells": [
  {
   "cell_type": "code",
   "execution_count": 163,
   "id": "dfc27a1a-60d4-488f-a219-5b61a9940acf",
   "metadata": {},
   "outputs": [],
   "source": [
    "from openai import OpenAI\n",
    "import pathlib\n",
    "import textwrap\n",
    "import os\n",
    "import time\n",
    "from jinja2 import Environment, FileSystemLoader\n",
    "from tqdm.notebook import tqdm\n",
    "from IPython.display import display\n",
    "import re\n",
    "from IPython.display import Markdown\n",
    "import json"
   ]
  },
  {
   "cell_type": "code",
   "execution_count": 164,
   "id": "68479b07-66ed-4cf8-9e60-9b2a14b75f07",
   "metadata": {},
   "outputs": [],
   "source": [
    "def replace_math_delimiters(content):\n",
    "    pattern = r'\\$(.*?)\\$'\n",
    "    new_content = re.sub(pattern, r'\\\\(\\1\\\\)', content)\n",
    "    return new_content"
   ]
  },
  {
   "cell_type": "code",
   "execution_count": 168,
   "id": "b7964544-9dd8-425d-8ad3-a66c4212d8bd",
   "metadata": {},
   "outputs": [],
   "source": [
    "def create_def_files(questions, chapter, set_name):\n",
    "    s = \"\"\"assignmentType      = default\n",
    "openDate          = 08/12/2024 at 11:59pm EDT\n",
    "dueDate           = 08/19/2024 at 11:59pm EDT\n",
    "answerDate        = 08/21/2024 at 11:59pm EDT\n",
    "problemListV2\\n\\n\"\"\"\n",
    "    problem = \"\"\n",
    "    i = 1;\n",
    "    for section in questions[chapter]:\n",
    "        section_name = ('_'.join(section.split('-')[2:]))\n",
    "\n",
    "        problem = problem + f\"\"\"problem_start\n",
    "problem_id = {i}\n",
    "source_file = {set_name}/{section_name}.pg\n",
    "value = 1\n",
    "problem_end\\n\\n\"\"\"\n",
    "        i+=1\n",
    "    return(s + problem)"
   ]
  },
  {
   "cell_type": "code",
   "execution_count": 169,
   "id": "b589e573-47fa-4be6-9299-d0a001edc832",
   "metadata": {},
   "outputs": [],
   "source": [
    "with open(\"./generated_files/MultiOpenStax_Definitions20240812_0452.json\", \"r\") as f:\n",
    "    questions = json.load(f)\n",
    "env = Environment(loader=FileSystemLoader('.'))\n",
    "template = env.get_template('./generated_files/WebWork/truefalse_template.pg.j2')"
   ]
  },
  {
   "cell_type": "code",
   "execution_count": 170,
   "id": "5856000f-6705-44ff-a357-51fae158dfae",
   "metadata": {},
   "outputs": [],
   "source": [
    "for chapter in questions:\n",
    "    set_name = \"set\" + ''.join(chapter.split())\n",
    "    relative_location = f\"generated_files/WebWork/MultiVariableCalculus/{set_name}\"\n",
    "    def_file = create_def_files(questions, chapter, set_name)\n",
    "\n",
    "    if (not os.path.exists(relative_location)):\n",
    "        os.mkdir(relative_location)\n",
    "    with open(relative_location + \".def\", \"w\") as f:\n",
    "        f.write(def_file)\n",
    "\n",
    "    \n",
    "    for section in questions[chapter]:\n",
    "        section_name = ('_'.join(section.split('-')[2:]))\n",
    "        questions_data = (questions[chapter][section])\n",
    "        data = {\n",
    "            \"questions\": questions_data,\n",
    "            \"num\" : len(questions_data),\n",
    "        }\n",
    "        output = template.render(data, custom_function=replace_math_delimiters)\n",
    "        output_filename = relative_location + f\"/{section_name}.pg\"\n",
    "        with open(output_filename, 'w') as f:\n",
    "            f.write(output)"
   ]
  },
  {
   "cell_type": "code",
   "execution_count": null,
   "id": "228b8a4d-1057-4869-9c5d-4a5328cbc8a5",
   "metadata": {},
   "outputs": [],
   "source": []
  },
  {
   "cell_type": "code",
   "execution_count": null,
   "id": "9393af07-1217-43a7-9de0-6653556b3f50",
   "metadata": {},
   "outputs": [],
   "source": []
  }
 ],
 "metadata": {
  "kernelspec": {
   "display_name": "Python 3 (ipykernel)",
   "language": "python",
   "name": "python3"
  },
  "language_info": {
   "codemirror_mode": {
    "name": "ipython",
    "version": 3
   },
   "file_extension": ".py",
   "mimetype": "text/x-python",
   "name": "python",
   "nbconvert_exporter": "python",
   "pygments_lexer": "ipython3",
   "version": "3.12.4"
  }
 },
 "nbformat": 4,
 "nbformat_minor": 5
}
