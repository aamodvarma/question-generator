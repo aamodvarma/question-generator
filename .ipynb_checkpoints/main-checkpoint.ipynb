{
 "cells": [
  {
   "cell_type": "code",
   "execution_count": 1,
   "id": "dc794584-91e2-4775-8de2-ec4d0ae349b1",
   "metadata": {},
   "outputs": [],
   "source": [
    "import pathlib\n",
    "import textwrap\n",
    "import os\n",
    "import google.generativeai as genai\n",
    "import time\n",
    "from tqdm.notebook import tqdm\n",
    "import ase.io\n",
    "from IPython.display import display\n",
    "from IPython.display import Markdown\n",
    "import json"
   ]
  },
  {
   "cell_type": "code",
   "execution_count": 2,
   "id": "43c58f05-43e7-404c-8caa-7907588fac8a",
   "metadata": {},
   "outputs": [],
   "source": [
    "with open('./all_chapter_definitions.json', 'r') as f:\n",
    "    data = json.load(f)"
   ]
  },
  {
   "cell_type": "code",
   "execution_count": 7,
   "id": "23ca6a78-73ce-4e55-adae-15a6fb8cb66b",
   "metadata": {},
   "outputs": [],
   "source": [
    "GOOGLE_API_KEY=os.getenv('GOOGLE_API_KEY')\n",
    "genai.configure(api_key=GOOGLE_API_KEY)"
   ]
  },
  {
   "cell_type": "code",
   "execution_count": 8,
   "id": "20f45ffe-690c-4e7a-8243-658e4eddafbc",
   "metadata": {},
   "outputs": [],
   "source": [
    "model = genai.GenerativeModel('gemini-1.0-pro-latest')"
   ]
  },
  {
   "cell_type": "code",
   "execution_count": 15,
   "id": "7e7276e1-f88e-45a1-83e1-56fd17481367",
   "metadata": {},
   "outputs": [],
   "source": [
    "questions = {}"
   ]
  },
  {
   "cell_type": "code",
   "execution_count": 140,
   "id": "ca20ca03-8778-4620-a18e-c1340e458562",
   "metadata": {},
   "outputs": [],
   "source": [
    "f = 0"
   ]
  },
  {
   "cell_type": "code",
   "execution_count": 158,
   "id": "b438c549-d908-406a-97e5-9c6e0044bf32",
   "metadata": {},
   "outputs": [],
   "source": [
    "def generate(definition, count):\n",
    "    try:\n",
    "        prompt = f\"\"\"\n",
    "        You are a professional math curriculum developer now. \n",
    "        Your goal is to develop true and false questions for multivariable calculus. \n",
    "        To do this you will take a given definition and convert that into a true and false question.         \n",
    "        \n",
    "        Definition:\n",
    "        {definition}\n",
    "        \n",
    "        Now generate a true and false question for this. Be extremely detailed and specific when writing the explanation for the question.\n",
    "        \n",
    "        Make sure that you convert the definition into a conceptual question and give an example.\n",
    "\n",
    "        Make sure you ONLY output in Latex. Please do not use any unicode characters or so, only Latex.\n",
    "        Your final output SHOULD be a json file with \"question\", \"answer\" and \"explanation\" all three should be a text field and NOTHING ELSE.\n",
    "        \n",
    "        \"\"\"\n",
    "        response = model.generate_content(prompt) \n",
    "\n",
    "        hint_prompt = f\"\"\"\n",
    "        Generate a hint for the following true and false, while formatting the hint just put it as follows,\n",
    "            Hint: \"\"\n",
    "        Here is the true/false: {response.text}\n",
    "        \"\"\"\n",
    "        response_hints = model.generate_content(hint_prompt) \n",
    "        qa = json.loads(response.text.strip().replace(\"```\",\"\").replace(\"json\",\"\").replace(\"\\\\\",\"\\\\\\\\\"))\n",
    "        qa['hint'] = response_hints.text\n",
    "        return qa;\n",
    "    except Exception as error:\n",
    "        print(error)\n",
    "        print(\" COUNT IS \" + str(count))\n",
    "        print(\"RETRYING\")\n",
    "        if (count == 4):\n",
    "            print(\"EXITING\")\n",
    "            return \"\"\n",
    "        generate(definition, count+1)\n",
    "\n"
   ]
  },
  {
   "cell_type": "code",
   "execution_count": 159,
   "id": "19591b42-2f5f-446e-bc3e-f508fe8d270c",
   "metadata": {},
   "outputs": [
    {
     "data": {
      "application/vnd.jupyter.widget-view+json": {
       "model_id": "c80b94420e724eb981311411054e7823",
       "version_major": 2,
       "version_minor": 0
      },
      "text/plain": [
       "  0%|          | 0/7 [00:00<?, ?it/s]"
      ]
     },
     "metadata": {},
     "output_type": "display_data"
    },
    {
     "data": {
      "application/vnd.jupyter.widget-view+json": {
       "model_id": "7aeec4e91a904c49a16b60ad77560c94",
       "version_major": 2,
       "version_minor": 0
      },
      "text/plain": [
       "  0%|          | 0/5 [00:00<?, ?it/s]"
      ]
     },
     "metadata": {},
     "output_type": "display_data"
    },
    {
     "data": {
      "application/vnd.jupyter.widget-view+json": {
       "model_id": "c43a9b87b7aa4703990bd33d9ecfd0a7",
       "version_major": 2,
       "version_minor": 0
      },
      "text/plain": [
       "  0%|          | 0/1 [00:00<?, ?it/s]"
      ]
     },
     "metadata": {},
     "output_type": "display_data"
    },
    {
     "name": "stdout",
     "output_type": "stream",
     "text": [
      "Invalid control character at: line 3 column 188 (char 190)\n",
      " COUNT IS 0\n",
      "RETRYING\n"
     ]
    },
    {
     "data": {
      "application/vnd.jupyter.widget-view+json": {
       "model_id": "e058ecc7712240709552383890f0f697",
       "version_major": 2,
       "version_minor": 0
      },
      "text/plain": [
       "0it [00:00, ?it/s]"
      ]
     },
     "metadata": {},
     "output_type": "display_data"
    },
    {
     "data": {
      "application/vnd.jupyter.widget-view+json": {
       "model_id": "fbc80c64db094f5cad04203fd857cf94",
       "version_major": 2,
       "version_minor": 0
      },
      "text/plain": [
       "0it [00:00, ?it/s]"
      ]
     },
     "metadata": {},
     "output_type": "display_data"
    },
    {
     "data": {
      "application/vnd.jupyter.widget-view+json": {
       "model_id": "bb8239fea17c44e1ba68281f9d2d10a6",
       "version_major": 2,
       "version_minor": 0
      },
      "text/plain": [
       "0it [00:00, ?it/s]"
      ]
     },
     "metadata": {},
     "output_type": "display_data"
    },
    {
     "data": {
      "application/vnd.jupyter.widget-view+json": {
       "model_id": "5fb92c2b74ee40c98460c96864b7ab26",
       "version_major": 2,
       "version_minor": 0
      },
      "text/plain": [
       "  0%|          | 0/4 [00:00<?, ?it/s]"
      ]
     },
     "metadata": {},
     "output_type": "display_data"
    },
    {
     "name": "stdout",
     "output_type": "stream",
     "text": [
      "Invalid control character at: line 5 column 423 (char 785)\n",
      " COUNT IS 0\n",
      "RETRYING\n"
     ]
    },
    {
     "data": {
      "application/vnd.jupyter.widget-view+json": {
       "model_id": "8fabe969cb874487908371dee6c9e44f",
       "version_major": 2,
       "version_minor": 0
      },
      "text/plain": [
       "  0%|          | 0/7 [00:00<?, ?it/s]"
      ]
     },
     "metadata": {},
     "output_type": "display_data"
    },
    {
     "data": {
      "application/vnd.jupyter.widget-view+json": {
       "model_id": "ea033284d9934c8eb613b410debd3118",
       "version_major": 2,
       "version_minor": 0
      },
      "text/plain": [
       "  0%|          | 0/6 [00:00<?, ?it/s]"
      ]
     },
     "metadata": {},
     "output_type": "display_data"
    },
    {
     "name": "stdout",
     "output_type": "stream",
     "text": [
      "Invalid control character at: line 3 column 202 (char 204)\n",
      " COUNT IS 0\n",
      "RETRYING\n",
      "Invalid control character at: line 3 column 47 (char 49)\n",
      " COUNT IS 0\n",
      "RETRYING\n",
      "Expecting value: line 3 column 15 (char 17)\n",
      " COUNT IS 1\n",
      "RETRYING\n"
     ]
    },
    {
     "data": {
      "application/vnd.jupyter.widget-view+json": {
       "model_id": "d7f2a4bc4b34456e8269e8e0f398c3f6",
       "version_major": 2,
       "version_minor": 0
      },
      "text/plain": [
       "  0%|          | 0/2 [00:00<?, ?it/s]"
      ]
     },
     "metadata": {},
     "output_type": "display_data"
    },
    {
     "name": "stdout",
     "output_type": "stream",
     "text": [
      "Invalid control character at: line 3 column 119 (char 121)\n",
      " COUNT IS 0\n",
      "RETRYING\n"
     ]
    },
    {
     "data": {
      "application/vnd.jupyter.widget-view+json": {
       "model_id": "242b281eea0948aba8d4edc31f533b0e",
       "version_major": 2,
       "version_minor": 0
      },
      "text/plain": [
       "  0%|          | 0/4 [00:00<?, ?it/s]"
      ]
     },
     "metadata": {},
     "output_type": "display_data"
    },
    {
     "name": "stdout",
     "output_type": "stream",
     "text": [
      "Invalid control character at: line 3 column 239 (char 241)\n",
      " COUNT IS 0\n",
      "RETRYING\n"
     ]
    },
    {
     "data": {
      "application/vnd.jupyter.widget-view+json": {
       "model_id": "9f1f31cf20784d5b8f2348ae3b5722ef",
       "version_major": 2,
       "version_minor": 0
      },
      "text/plain": [
       "  0%|          | 0/3 [00:00<?, ?it/s]"
      ]
     },
     "metadata": {},
     "output_type": "display_data"
    },
    {
     "name": "stdout",
     "output_type": "stream",
     "text": [
      "Invalid control character at: line 3 column 207 (char 209)\n",
      " COUNT IS 0\n",
      "RETRYING\n"
     ]
    },
    {
     "data": {
      "application/vnd.jupyter.widget-view+json": {
       "model_id": "74dd78f5eba24fe8be5adfbc5cef2bd4",
       "version_major": 2,
       "version_minor": 0
      },
      "text/plain": [
       "  0%|          | 0/1 [00:00<?, ?it/s]"
      ]
     },
     "metadata": {},
     "output_type": "display_data"
    },
    {
     "data": {
      "application/vnd.jupyter.widget-view+json": {
       "model_id": "773588d2e1754967b961dc8f95081d62",
       "version_major": 2,
       "version_minor": 0
      },
      "text/plain": [
       "  0%|          | 0/3 [00:00<?, ?it/s]"
      ]
     },
     "metadata": {},
     "output_type": "display_data"
    },
    {
     "data": {
      "application/vnd.jupyter.widget-view+json": {
       "model_id": "0a92ac5a4fe44dfc90caa10f377ad068",
       "version_major": 2,
       "version_minor": 0
      },
      "text/plain": [
       "  0%|          | 0/2 [00:00<?, ?it/s]"
      ]
     },
     "metadata": {},
     "output_type": "display_data"
    },
    {
     "name": "stdout",
     "output_type": "stream",
     "text": [
      "Invalid control character at: line 3 column 161 (char 163)\n",
      " COUNT IS 0\n",
      "RETRYING\n",
      "Invalid control character at: line 3 column 75 (char 77)\n",
      " COUNT IS 0\n",
      "RETRYING\n"
     ]
    },
    {
     "data": {
      "application/vnd.jupyter.widget-view+json": {
       "model_id": "43165b229cef4c36b12211309ecc164e",
       "version_major": 2,
       "version_minor": 0
      },
      "text/plain": [
       "  0%|          | 0/4 [00:00<?, ?it/s]"
      ]
     },
     "metadata": {},
     "output_type": "display_data"
    },
    {
     "data": {
      "application/vnd.jupyter.widget-view+json": {
       "model_id": "9614630e9ae54f8198cb3b930923c056",
       "version_major": 2,
       "version_minor": 0
      },
      "text/plain": [
       "  0%|          | 0/3 [00:00<?, ?it/s]"
      ]
     },
     "metadata": {},
     "output_type": "display_data"
    },
    {
     "name": "stdout",
     "output_type": "stream",
     "text": [
      "Invalid control character at: line 3 column 267 (char 269)\n",
      " COUNT IS 0\n",
      "RETRYING\n",
      "Invalid control character at: line 5 column 171 (char 403)\n",
      " COUNT IS 1\n",
      "RETRYING\n",
      "Invalid control character at: line 5 column 188 (char 406)\n",
      " COUNT IS 2\n",
      "RETRYING\n",
      "Invalid control character at: line 3 column 33 (char 35)\n",
      " COUNT IS 3\n",
      "RETRYING\n",
      "Invalid control character at: line 5 column 317 (char 566)\n",
      " COUNT IS 4\n",
      "RETRYING\n",
      "EXITING\n"
     ]
    },
    {
     "data": {
      "application/vnd.jupyter.widget-view+json": {
       "model_id": "2c2fb04a16784169901f55b6d20d65c2",
       "version_major": 2,
       "version_minor": 0
      },
      "text/plain": [
       "  0%|          | 0/3 [00:00<?, ?it/s]"
      ]
     },
     "metadata": {},
     "output_type": "display_data"
    },
    {
     "name": "stdout",
     "output_type": "stream",
     "text": [
      "Invalid control character at: line 5 column 35 (char 265)\n",
      " COUNT IS 0\n",
      "RETRYING\n"
     ]
    },
    {
     "data": {
      "application/vnd.jupyter.widget-view+json": {
       "model_id": "dca5236221bc4e8ca8db9351d230e00f",
       "version_major": 2,
       "version_minor": 0
      },
      "text/plain": [
       "  0%|          | 0/2 [00:00<?, ?it/s]"
      ]
     },
     "metadata": {},
     "output_type": "display_data"
    },
    {
     "data": {
      "application/vnd.jupyter.widget-view+json": {
       "model_id": "1b20ff25af2f42eb9112df31b5754ad2",
       "version_major": 2,
       "version_minor": 0
      },
      "text/plain": [
       "  0%|          | 0/1 [00:00<?, ?it/s]"
      ]
     },
     "metadata": {},
     "output_type": "display_data"
    },
    {
     "name": "stdout",
     "output_type": "stream",
     "text": [
      "Invalid control character at: line 3 column 21 (char 23)\n",
      " COUNT IS 0\n",
      "RETRYING\n",
      "Invalid control character at: line 5 column 343 (char 612)\n",
      " COUNT IS 1\n",
      "RETRYING\n"
     ]
    },
    {
     "data": {
      "application/vnd.jupyter.widget-view+json": {
       "model_id": "d2f4fe0fb9d94aa1968b33a3f4d4694d",
       "version_major": 2,
       "version_minor": 0
      },
      "text/plain": [
       "  0%|          | 0/8 [00:00<?, ?it/s]"
      ]
     },
     "metadata": {},
     "output_type": "display_data"
    },
    {
     "data": {
      "application/vnd.jupyter.widget-view+json": {
       "model_id": "993859c140ad416497b2250906f76d02",
       "version_major": 2,
       "version_minor": 0
      },
      "text/plain": [
       "  0%|          | 0/4 [00:00<?, ?it/s]"
      ]
     },
     "metadata": {},
     "output_type": "display_data"
    },
    {
     "name": "stdout",
     "output_type": "stream",
     "text": [
      "Invalid control character at: line 5 column 255 (char 441)\n",
      " COUNT IS 0\n",
      "RETRYING\n"
     ]
    },
    {
     "data": {
      "application/vnd.jupyter.widget-view+json": {
       "model_id": "526e7478bd6e4262984259a6b7e3f5c0",
       "version_major": 2,
       "version_minor": 0
      },
      "text/plain": [
       "  0%|          | 0/8 [00:00<?, ?it/s]"
      ]
     },
     "metadata": {},
     "output_type": "display_data"
    },
    {
     "name": "stdout",
     "output_type": "stream",
     "text": [
      "Invalid control character at: line 5 column 825 (char 1353)\n",
      " COUNT IS 0\n",
      "RETRYING\n",
      "Invalid control character at: line 3 column 138 (char 140)\n",
      " COUNT IS 0\n",
      "RETRYING\n",
      "Invalid control character at: line 3 column 91 (char 93)\n",
      " COUNT IS 1\n",
      "RETRYING\n",
      "Invalid control character at: line 3 column 150 (char 152)\n",
      " COUNT IS 0\n",
      "RETRYING\n",
      "Invalid control character at: line 3 column 174 (char 176)\n",
      " COUNT IS 0\n",
      "RETRYING\n",
      "Invalid control character at: line 5 column 392 (char 771)\n",
      " COUNT IS 1\n",
      "RETRYING\n",
      "Expecting value: line 1 column 1 (char 0)\n",
      " COUNT IS 2\n",
      "RETRYING\n",
      "Invalid control character at: line 5 column 152 (char 286)\n",
      " COUNT IS 0\n",
      "RETRYING\n"
     ]
    },
    {
     "data": {
      "application/vnd.jupyter.widget-view+json": {
       "model_id": "4886c5932eea4330b505ea43c4ca8cdd",
       "version_major": 2,
       "version_minor": 0
      },
      "text/plain": [
       "  0%|          | 0/2 [00:00<?, ?it/s]"
      ]
     },
     "metadata": {},
     "output_type": "display_data"
    },
    {
     "data": {
      "application/vnd.jupyter.widget-view+json": {
       "model_id": "7e62604c008241dabec2309f16e3902e",
       "version_major": 2,
       "version_minor": 0
      },
      "text/plain": [
       "  0%|          | 0/6 [00:00<?, ?it/s]"
      ]
     },
     "metadata": {},
     "output_type": "display_data"
    },
    {
     "name": "stdout",
     "output_type": "stream",
     "text": [
      "Expecting value: line 1 column 1 (char 0)\n",
      " COUNT IS 0\n",
      "RETRYING\n",
      "Invalid control character at: line 3 column 29 (char 31)\n",
      " COUNT IS 0\n",
      "RETRYING\n"
     ]
    },
    {
     "data": {
      "application/vnd.jupyter.widget-view+json": {
       "model_id": "b5425d202ca440a79e5f0e5356e9cc9c",
       "version_major": 2,
       "version_minor": 0
      },
      "text/plain": [
       "0it [00:00, ?it/s]"
      ]
     },
     "metadata": {},
     "output_type": "display_data"
    },
    {
     "data": {
      "application/vnd.jupyter.widget-view+json": {
       "model_id": "443a88dc2675499db20a824ffffa55f0",
       "version_major": 2,
       "version_minor": 0
      },
      "text/plain": [
       "  0%|          | 0/4 [00:00<?, ?it/s]"
      ]
     },
     "metadata": {},
     "output_type": "display_data"
    },
    {
     "name": "stdout",
     "output_type": "stream",
     "text": [
      "Invalid control character at: line 5 column 114 (char 309)\n",
      " COUNT IS 0\n",
      "RETRYING\n",
      "Invalid control character at: line 3 column 172 (char 174)\n",
      " COUNT IS 1\n",
      "RETRYING\n",
      "Invalid control character at: line 5 column 79 (char 447)\n",
      " COUNT IS 0\n",
      "RETRYING\n"
     ]
    },
    {
     "data": {
      "application/vnd.jupyter.widget-view+json": {
       "model_id": "72f369365f0d4ceab0d0f45c10ad53cd",
       "version_major": 2,
       "version_minor": 0
      },
      "text/plain": [
       "  0%|          | 0/3 [00:00<?, ?it/s]"
      ]
     },
     "metadata": {},
     "output_type": "display_data"
    },
    {
     "name": "stdout",
     "output_type": "stream",
     "text": [
      "Invalid control character at: line 3 column 104 (char 106)\n",
      " COUNT IS 0\n",
      "RETRYING\n"
     ]
    },
    {
     "data": {
      "application/vnd.jupyter.widget-view+json": {
       "model_id": "58bed02e6f6d43718228a9e18f36445e",
       "version_major": 2,
       "version_minor": 0
      },
      "text/plain": [
       "0it [00:00, ?it/s]"
      ]
     },
     "metadata": {},
     "output_type": "display_data"
    },
    {
     "data": {
      "application/vnd.jupyter.widget-view+json": {
       "model_id": "f81f4a4dead24a02b30dbdc9533bcdd2",
       "version_major": 2,
       "version_minor": 0
      },
      "text/plain": [
       "  0%|          | 0/7 [00:00<?, ?it/s]"
      ]
     },
     "metadata": {},
     "output_type": "display_data"
    },
    {
     "data": {
      "application/vnd.jupyter.widget-view+json": {
       "model_id": "482ec789f3b9482c9b16fe27c7fcc2a8",
       "version_major": 2,
       "version_minor": 0
      },
      "text/plain": [
       "  0%|          | 0/4 [00:00<?, ?it/s]"
      ]
     },
     "metadata": {},
     "output_type": "display_data"
    },
    {
     "name": "stdout",
     "output_type": "stream",
     "text": [
      "Invalid control character at: line 3 column 140 (char 142)\n",
      " COUNT IS 0\n",
      "RETRYING\n",
      "Invalid control character at: line 5 column 182 (char 479)\n",
      " COUNT IS 1\n",
      "RETRYING\n",
      "Invalid control character at: line 5 column 148 (char 403)\n",
      " COUNT IS 2\n",
      "RETRYING\n",
      "Invalid control character at: line 5 column 130 (char 399)\n",
      " COUNT IS 3\n",
      "RETRYING\n",
      "Invalid control character at: line 3 column 182 (char 184)\n",
      " COUNT IS 0\n",
      "RETRYING\n",
      "Invalid control character at: line 3 column 105 (char 107)\n",
      " COUNT IS 1\n",
      "RETRYING\n",
      "Invalid control character at: line 3 column 70 (char 72)\n",
      " COUNT IS 2\n",
      "RETRYING\n",
      "Invalid control character at: line 5 column 355 (char 641)\n",
      " COUNT IS 3\n",
      "RETRYING\n",
      "Invalid control character at: line 3 column 181 (char 183)\n",
      " COUNT IS 4\n",
      "RETRYING\n",
      "EXITING\n"
     ]
    },
    {
     "data": {
      "application/vnd.jupyter.widget-view+json": {
       "model_id": "27e9300bf4d449ae9f9233a2ec6b1785",
       "version_major": 2,
       "version_minor": 0
      },
      "text/plain": [
       "  0%|          | 0/6 [00:00<?, ?it/s]"
      ]
     },
     "metadata": {},
     "output_type": "display_data"
    },
    {
     "name": "stdout",
     "output_type": "stream",
     "text": [
      "Invalid control character at: line 3 column 159 (char 161)\n",
      " COUNT IS 0\n",
      "RETRYING\n",
      "Expecting value: line 1 column 1 (char 0)\n",
      " COUNT IS 1\n",
      "RETRYING\n",
      "Invalid control character at: line 5 column 421 (char 584)\n",
      " COUNT IS 0\n",
      "RETRYING\n"
     ]
    },
    {
     "data": {
      "application/vnd.jupyter.widget-view+json": {
       "model_id": "26bf254edb7c4681b17560647a11d872",
       "version_major": 2,
       "version_minor": 0
      },
      "text/plain": [
       "  0%|          | 0/1 [00:00<?, ?it/s]"
      ]
     },
     "metadata": {},
     "output_type": "display_data"
    },
    {
     "name": "stdout",
     "output_type": "stream",
     "text": [
      "Invalid control character at: line 3 column 350 (char 352)\n",
      " COUNT IS 0\n",
      "RETRYING\n"
     ]
    },
    {
     "data": {
      "application/vnd.jupyter.widget-view+json": {
       "model_id": "886c8f0434644066b03ec0f350b93d70",
       "version_major": 2,
       "version_minor": 0
      },
      "text/plain": [
       "  0%|          | 0/1 [00:00<?, ?it/s]"
      ]
     },
     "metadata": {},
     "output_type": "display_data"
    },
    {
     "name": "stdout",
     "output_type": "stream",
     "text": [
      "Invalid control character at: line 3 column 133 (char 135)\n",
      " COUNT IS 0\n",
      "RETRYING\n",
      "Invalid control character at: line 3 column 301 (char 303)\n",
      " COUNT IS 1\n",
      "RETRYING\n",
      "Invalid control character at: line 3 column 81 (char 83)\n",
      " COUNT IS 2\n",
      "RETRYING\n"
     ]
    },
    {
     "data": {
      "application/vnd.jupyter.widget-view+json": {
       "model_id": "b945dadff660407fbff71fc5c94f798d",
       "version_major": 2,
       "version_minor": 0
      },
      "text/plain": [
       "  0%|          | 0/2 [00:00<?, ?it/s]"
      ]
     },
     "metadata": {},
     "output_type": "display_data"
    },
    {
     "name": "stdout",
     "output_type": "stream",
     "text": [
      "Invalid control character at: line 5 column 35 (char 276)\n",
      " COUNT IS 0\n",
      "RETRYING\n",
      "Invalid control character at: line 3 column 34 (char 36)\n",
      " COUNT IS 1\n",
      "RETRYING\n",
      "Invalid control character at: line 5 column 184 (char 525)\n",
      " COUNT IS 2\n",
      "RETRYING\n"
     ]
    },
    {
     "data": {
      "application/vnd.jupyter.widget-view+json": {
       "model_id": "e7ff2e7bf2674d0e90821638d270a34c",
       "version_major": 2,
       "version_minor": 0
      },
      "text/plain": [
       "  0%|          | 0/1 [00:00<?, ?it/s]"
      ]
     },
     "metadata": {},
     "output_type": "display_data"
    },
    {
     "name": "stdout",
     "output_type": "stream",
     "text": [
      "Invalid control character at: line 5 column 126 (char 268)\n",
      " COUNT IS 0\n",
      "RETRYING\n"
     ]
    },
    {
     "data": {
      "application/vnd.jupyter.widget-view+json": {
       "model_id": "b3670d68eb144078972f400bbc7f5cab",
       "version_major": 2,
       "version_minor": 0
      },
      "text/plain": [
       "  0%|          | 0/3 [00:00<?, ?it/s]"
      ]
     },
     "metadata": {},
     "output_type": "display_data"
    },
    {
     "name": "stdout",
     "output_type": "stream",
     "text": [
      "The `response.text` quick accessor only works for simple (single-`Part`) text responses. This response is not simple text.Use the `result.parts` accessor or the full `result.candidates[index].content.parts` lookup instead.\n",
      " COUNT IS 0\n",
      "RETRYING\n",
      "The `response.text` quick accessor only works for simple (single-`Part`) text responses. This response is not simple text.Use the `result.parts` accessor or the full `result.candidates[index].content.parts` lookup instead.\n",
      " COUNT IS 1\n",
      "RETRYING\n",
      "The `response.text` quick accessor only works for simple (single-`Part`) text responses. This response is not simple text.Use the `result.parts` accessor or the full `result.candidates[index].content.parts` lookup instead.\n",
      " COUNT IS 2\n",
      "RETRYING\n"
     ]
    },
    {
     "data": {
      "application/vnd.jupyter.widget-view+json": {
       "model_id": "dde3d500afa54263887f7ddac9698380",
       "version_major": 2,
       "version_minor": 0
      },
      "text/plain": [
       "  0%|          | 0/8 [00:00<?, ?it/s]"
      ]
     },
     "metadata": {},
     "output_type": "display_data"
    },
    {
     "data": {
      "application/vnd.jupyter.widget-view+json": {
       "model_id": "d69f9d670b5a4b5199aba56c2655e53f",
       "version_major": 2,
       "version_minor": 0
      },
      "text/plain": [
       "  0%|          | 0/2 [00:00<?, ?it/s]"
      ]
     },
     "metadata": {},
     "output_type": "display_data"
    },
    {
     "name": "stdout",
     "output_type": "stream",
     "text": [
      "Invalid control character at: line 5 column 319 (char 668)\n",
      " COUNT IS 0\n",
      "RETRYING\n"
     ]
    },
    {
     "data": {
      "application/vnd.jupyter.widget-view+json": {
       "model_id": "5901c794a8e4472cb62c7a9bb62b24a5",
       "version_major": 2,
       "version_minor": 0
      },
      "text/plain": [
       "  0%|          | 0/3 [00:00<?, ?it/s]"
      ]
     },
     "metadata": {},
     "output_type": "display_data"
    },
    {
     "name": "stdout",
     "output_type": "stream",
     "text": [
      "Expecting value: line 3 column 15 (char 17)\n",
      " COUNT IS 0\n",
      "RETRYING\n",
      "Invalid control character at: line 3 column 48 (char 50)\n",
      " COUNT IS 1\n",
      "RETRYING\n"
     ]
    },
    {
     "data": {
      "application/vnd.jupyter.widget-view+json": {
       "model_id": "1402e8491e9c4a09b55495de5fd7ddbb",
       "version_major": 2,
       "version_minor": 0
      },
      "text/plain": [
       "  0%|          | 0/3 [00:00<?, ?it/s]"
      ]
     },
     "metadata": {},
     "output_type": "display_data"
    },
    {
     "name": "stdout",
     "output_type": "stream",
     "text": [
      "Invalid control character at: line 3 column 115 (char 117)\n",
      " COUNT IS 0\n",
      "RETRYING\n",
      "Invalid control character at: line 3 column 108 (char 110)\n",
      " COUNT IS 1\n",
      "RETRYING\n"
     ]
    },
    {
     "data": {
      "application/vnd.jupyter.widget-view+json": {
       "model_id": "5f4355b6bbb6496ca9ff274056faef5c",
       "version_major": 2,
       "version_minor": 0
      },
      "text/plain": [
       "0it [00:00, ?it/s]"
      ]
     },
     "metadata": {},
     "output_type": "display_data"
    },
    {
     "data": {
      "application/vnd.jupyter.widget-view+json": {
       "model_id": "bdbaa2d7d83c41689f833d9fb5dafb80",
       "version_major": 2,
       "version_minor": 0
      },
      "text/plain": [
       "  0%|          | 0/2 [00:00<?, ?it/s]"
      ]
     },
     "metadata": {},
     "output_type": "display_data"
    },
    {
     "name": "stdout",
     "output_type": "stream",
     "text": [
      "Invalid control character at: line 3 column 110 (char 112)\n",
      " COUNT IS 0\n",
      "RETRYING\n"
     ]
    },
    {
     "data": {
      "application/vnd.jupyter.widget-view+json": {
       "model_id": "81942164e7fc4f1d93325d5f29a223f1",
       "version_major": 2,
       "version_minor": 0
      },
      "text/plain": [
       "  0%|          | 0/6 [00:00<?, ?it/s]"
      ]
     },
     "metadata": {},
     "output_type": "display_data"
    },
    {
     "name": "stdout",
     "output_type": "stream",
     "text": [
      "Invalid control character at: line 5 column 328 (char 527)\n",
      " COUNT IS 0\n",
      "RETRYING\n",
      "Invalid control character at: line 5 column 64 (char 371)\n",
      " COUNT IS 0\n",
      "RETRYING\n",
      "Invalid control character at: line 5 column 178 (char 516)\n",
      " COUNT IS 0\n",
      "RETRYING\n",
      "Invalid control character at: line 3 column 226 (char 228)\n",
      " COUNT IS 1\n",
      "RETRYING\n",
      "Invalid control character at: line 5 column 304 (char 546)\n",
      " COUNT IS 2\n",
      "RETRYING\n",
      "Invalid control character at: line 5 column 147 (char 433)\n",
      " COUNT IS 3\n",
      "RETRYING\n",
      "Invalid control character at: line 5 column 185 (char 525)\n",
      " COUNT IS 4\n",
      "RETRYING\n",
      "EXITING\n"
     ]
    },
    {
     "data": {
      "application/vnd.jupyter.widget-view+json": {
       "model_id": "4e8ce423cfec4fdc8b4986cc731a0d9b",
       "version_major": 2,
       "version_minor": 0
      },
      "text/plain": [
       "0it [00:00, ?it/s]"
      ]
     },
     "metadata": {},
     "output_type": "display_data"
    },
    {
     "data": {
      "application/vnd.jupyter.widget-view+json": {
       "model_id": "6f63e64fadb24ef68ebb7cd15fe0ce00",
       "version_major": 2,
       "version_minor": 0
      },
      "text/plain": [
       "0it [00:00, ?it/s]"
      ]
     },
     "metadata": {},
     "output_type": "display_data"
    },
    {
     "data": {
      "application/vnd.jupyter.widget-view+json": {
       "model_id": "938380431c3549688e5feea0d12c9095",
       "version_major": 2,
       "version_minor": 0
      },
      "text/plain": [
       "  0%|          | 0/4 [00:00<?, ?it/s]"
      ]
     },
     "metadata": {},
     "output_type": "display_data"
    },
    {
     "data": {
      "application/vnd.jupyter.widget-view+json": {
       "model_id": "ef0d73efd9b4496aa0bf923bdd418cf5",
       "version_major": 2,
       "version_minor": 0
      },
      "text/plain": [
       "  0%|          | 0/3 [00:00<?, ?it/s]"
      ]
     },
     "metadata": {},
     "output_type": "display_data"
    },
    {
     "name": "stdout",
     "output_type": "stream",
     "text": [
      "Invalid control character at: line 3 column 202 (char 204)\n",
      " COUNT IS 0\n",
      "RETRYING\n",
      "Invalid control character at: line 5 column 288 (char 476)\n",
      " COUNT IS 0\n",
      "RETRYING\n"
     ]
    },
    {
     "data": {
      "application/vnd.jupyter.widget-view+json": {
       "model_id": "ce02c2ddfa614483b279ef9e82fbb95e",
       "version_major": 2,
       "version_minor": 0
      },
      "text/plain": [
       "  0%|          | 0/1 [00:00<?, ?it/s]"
      ]
     },
     "metadata": {},
     "output_type": "display_data"
    },
    {
     "name": "stdout",
     "output_type": "stream",
     "text": [
      "Invalid control character at: line 5 column 290 (char 454)\n",
      " COUNT IS 0\n",
      "RETRYING\n"
     ]
    },
    {
     "data": {
      "application/vnd.jupyter.widget-view+json": {
       "model_id": "7fbe9d1b0415471884bc9b41ce61cc42",
       "version_major": 2,
       "version_minor": 0
      },
      "text/plain": [
       "0it [00:00, ?it/s]"
      ]
     },
     "metadata": {},
     "output_type": "display_data"
    },
    {
     "data": {
      "application/vnd.jupyter.widget-view+json": {
       "model_id": "267c226452cc4ed882614e4f207cc6a4",
       "version_major": 2,
       "version_minor": 0
      },
      "text/plain": [
       "0it [00:00, ?it/s]"
      ]
     },
     "metadata": {},
     "output_type": "display_data"
    }
   ],
   "source": [
    "for chapter, sections in tqdm(data.items()):\n",
    "    questions[chapter] = {}\n",
    "    for section, section_definitions in tqdm(sections.items()):\n",
    "        questions[chapter][section] = []\n",
    "        for q in tqdm(section_definitions):\n",
    "            generated_response = generate(q, 0)\n",
    "            questions[chapter][section].append(generated_response)"
   ]
  },
  {
   "cell_type": "code",
   "execution_count": 149,
   "id": "f15c13ad-8a5b-4d5e-b786-01f72aa2859c",
   "metadata": {},
   "outputs": [
    {
     "data": {
      "text/plain": [
       "{'Parametric Equations and Polar Coordinates': {'1-1-parametric-equations': [{'question': '\\\\\\\\( \\\\hspace{0.5} cm \\\\\\\\) Consider the parametric equations $x = t^2$ and $y = t + 1$ where $t$ is a real number. Is the statement that the parametric curve has a cusp at $t = 0$ true or false? Explain your answer.',\n",
       "    'answer': 'False',\n",
       "    'explanation': 'A cusp occurs when the derivative of a parametric curve is undefined or zero and the second derivative is also zero at the same point. For the given parametric equations, the derivatives are $dx/dt = 2t$ and $dy/dt = 1$. At $t = 0$, both derivatives are defined and nonzero, so there is no cusp at that point. Therefore, the statement is false.',\n",
       "    'hint': 'Hint: Consider the derivatives of the parametric equations at $t = 0$.'}],\n",
       "  '1-2-calculus-of-parametric-curves': [],\n",
       "  '1-3-polar-coordinates': [],\n",
       "  '1-4-area-and-arc-length-in-polar-coordinates': [],\n",
       "  '1-5-conic-sections': [None,\n",
       "   None,\n",
       "   None,\n",
       "   {'question': '**True or False:** The eccentricity of a conic section is defined as the ratio of the perpendicular distance from the point to the directrix to the distance from the point to the focus.',\n",
       "    'answer': 'True',\n",
       "    'explanation': 'The definition of eccentricity is the ratio of the distance from the point to the focus to the perpendicular distance from the point to the nearest directrix. This value is constant for any conic section and can define the type of conic section: a parabola if $e=1$, an ellipse if $e<1$, and a hyperbola if $e>1$. For example, consider an ellipse with foci at $(-c,0)$ and $(c,0)$ and vertices at $(-a,0)$ and $(a,0)$. The eccentricity of this ellipse is $e=\\\\\\\\frac{c}{a}$, which is constant for all points on the ellipse.',\n",
       "    'hint': 'Hint: The focus and directrix are two important aspects of the definition of eccentricity.'}]},\n",
       " 'Vectors in Space': {'2-1-vectors-in-the-plane': [{'question': '**True or False:** A quantity that has only magnitude but no direction can be considered a vector.',\n",
       "    'answer': 'False',\n",
       "    'explanation': 'By definition, a vector is a quantity that possesses both magnitude and direction. A quantity with only magnitude and no specified direction is not a vector. For example, the distance from point A to B is a scalar quantity with only magnitude, not a vector.',\n",
       "    'hint': 'Hint: By definition, a vector includes both magnitude and direction.'},\n",
       "   None,\n",
       "   {'question': 'If a vector \\\\\\\\(\\\\\\\\mathbf{v}\\\\\\\\) has a magnitude of $3$ and a scalar $k$ is negative, then the magnitude of the vector $k\\\\\\\\mathbf{v}$ is:',\n",
       "    'answer': 'False',\n",
       "    'explanation': 'According to the definition of scalar multiplication, the magnitude of the vector $k\\\\\\\\mathbf{v}$ is $\\\\\\\\left|k\\\\\\\\right|\\\\\\\\left|\\\\\\\\mathbf{v}\\\\\\\\right|$. Since $k$ is negative, $\\\\\\\\left|k\\\\\\\\right| = -k$. Therefore, the magnitude of the vector $k\\\\\\\\mathbf{v}$ is $-k\\\\\\\\left|\\\\\\\\mathbf{v}\\\\\\\\right| = -(-3)\\\\\\\\left|\\\\\\\\mathbf{v}\\\\\\\\right| = 3\\\\\\\\left|\\\\\\\\mathbf{v}\\\\\\\\right| = 9$. So, the magnitude of the vector $k\\\\\\\\mathbf{v}$ is $9$, not $3$.',\n",
       "    'hint': \"Hint: The magnitude of the vector is equal to the scalar's magnitude multiplied by the vector's magnitude.\"},\n",
       "   {'question': '**True or False:** In vector addition, the vector sum of two vectors \\\\\\\\(\\\\\\\\mathbf{v}\\\\\\\\) and \\\\\\\\(\\\\\\\\mathbf{w}\\\\\\\\) can be found by translating \\\\\\\\(\\\\\\\\mathbf{w}\\\\\\\\) so that its initial point coincides with the terminal point of \\\\\\\\(\\\\\\\\mathbf{v}\\\\\\\\).',\n",
       "    'answer': '**True**',\n",
       "    'explanation': 'According to the definition of vector addition given, the vector sum \\\\\\\\(\\\\\\\\mathbf{v} + \\\\\\\\mathbf{w}\\\\\\\\) is constructed by placing the initial point of \\\\\\\\(\\\\\\\\mathbf{w}\\\\\\\\) at the terminal point of \\\\\\\\(\\\\\\\\mathbf{v}\\\\\\\\). This means that the vector \\\\\\\\(\\\\\\\\mathbf{w}\\\\\\\\) is shifted or translated so that its initial point coincides with the terminal point of \\\\\\\\(\\\\\\\\mathbf{v}\\\\\\\\).',\n",
       "    'hint': 'Hint: Consider the definition of vector addition.'},\n",
       "   {'question': 'True or False: The vector with initial point (1,2) and terminal point (3,5) can be written in component form as \\\\n\\\\nv=〈2,3〉.',\n",
       "    'answer': 'False',\n",
       "    'explanation': 'The vector with initial point (1,2) and terminal point (3,5) can be written in component form as v=〈3−1,5−2〉=〈2,3〉.',\n",
       "    'hint': 'Hint: Calculate the difference between the coordinates of the terminal and initial points to determine the component form.'},\n",
       "   None],\n",
       "  '2-2-vectors-in-three-dimensions': [None,\n",
       "   {'question': 'True or False: The radius of a sphere is the distance between any two points on the surface of the sphere.',\n",
       "    'answer': 'False',\n",
       "    'explanation': 'The radius of a sphere is the distance from the center of the sphere to any point on the surface of the sphere.  For example, if a sphere has a radius of 5 cm, then the distance from the center of the sphere to any point on the surface of the sphere is 5 cm.',\n",
       "    'hint': 'Hint: The radius of a sphere is related to the distance between the center of the sphere and a point on its surface.'}],\n",
       "  '2-3-the-dot-product': [{'question': 'Determine if the following statement is true or false:\\\\n\\\\nThe dot product of two vectors only depends on their direction.',\n",
       "    'answer': 'True',\n",
       "    'explanation': 'The dot product of two vectors u=〈u1,u2,u3〉 and v=〈v1,v2,v3〉 is defined as u⋅v=u1v1+u2v2+u3v3. This formula shows that the dot product is the sum of the products of the corresponding components of the two vectors. Therefore, the dot product only depends on the direction of the vectors, not their magnitudes.',\n",
       "    'hint': \"Hint: The dot product solely relies on the vectors' orientations, not their magnitudes.\"},\n",
       "   {'question': '**True or False:** The direction cosines of a nonzero vector are always positive.',\n",
       "    'answer': 'False',\n",
       "    'explanation': 'The direction cosines of a vector are the cosines of the angles formed by the vector and the coordinate axes. These angles can be acute, obtuse, or right, so the direction cosines can be positive or negative. For example, the direction cosines of the vector $\\\\mathbf{v} = (1, 1, 1)$ are $(\\\\frac{1}{\\\\sqrt{3}}, \\\\frac{1}{\\\\sqrt{3}}, \\\\frac{1}{\\\\sqrt{3}})$. The first two direction cosines are positive because the angles between $\\\\mathbf{v}$ and the $x$- and $y$-axes are acute. However, the third direction cosine is negative because the angle between $\\\\mathbf{v}$ and the $z$-axis is obtuse.',\n",
       "    'hint': 'Hint: The direction cosines of a vector are the cosines of the angles formed by the vector and the coordinate axes.'},\n",
       "   {'question': '\\\\\\\\(proju_v\\\\\\\\) is a vector that has the same initial point as \\\\(\\\\\\\\vec{u}\\\\\\\\) and \\\\(\\\\\\\\vec{v}\\\\), and the same direction as \\\\(\\\\\\\\vec{u}\\\\).',\n",
       "    'answer': 'True',\n",
       "    'explanation': 'The definition of the vector projection of \\\\(\\\\\\\\vec{v}\\\\) onto \\\\(\\\\\\\\vec{u}\\\\), denoted by \\\\(\\\\\\\\text{proju}_v\\\\), states that it is the vector with the same initial point as \\\\(\\\\\\\\vec{u}\\\\) and \\\\(\\\\\\\\vec{v}\\\\), and the same direction as \\\\(\\\\\\\\vec{u}\\\\).',\n",
       "    'hint': 'Hint: Think about the initial point and direction of \\\\(\\\\\\\\text{proju}_v\\\\).'},\n",
       "   {'question': 'Consider an object that moves in a straight line from the origin to the point $(2, 3)$ under the influence of a constant force \\\\\\\\(\\\\\\\\mathbf{F} = 2\\\\\\\\mathbf{i} + 3\\\\\\\\mathbf{j}\\\\\\\\) with $\\\\\\\\theta=45^\\\\\\\\circ$. True or False: The work done by the force on the object is \\\\\\\\(5\\\\sqrt{2}\\\\\\\\).',\n",
       "    'answer': 'True',\n",
       "    'explanation': 'The work done by the force on the object is given by $W = Fd\\\\\\\\cos\\\\\\\\theta$, where $F$ is the magnitude of the force, $d$ is the distance traveled by the object, and $\\\\theta$ is the angle between the force and the displacement. In this case, $F = \\\\\\\\sqrt{2^2 + 3^2} = \\\\sqrt{13}$, $d = \\\\\\\\sqrt{2^2 + 3^2} = \\\\sqrt{13}$, and $\\\\theta = 45^\\\\\\\\circ$. Therefore, the work done by the force on the object is $W = Fd\\\\\\\\cos\\\\\\\\theta = \\\\\\\\sqrt{13}\\\\\\\\sqrt{13}\\\\\\\\cos{45^\\\\\\\\circ} = 5\\\\sqrt{2}$. So, the statement is \\\\\\\\(True\\\\\\\\).',\n",
       "    'hint': 'Hint: Use the work formula \\\\(W = Fd\\\\cos\\\\theta\\\\) and find the magnitude of the force and distance.'}],\n",
       "  '2-4-the-cross-product': [None,\n",
       "   None,\n",
       "   {'question': '$\\\\\\\\~\\\\\\\\newline~\\\\\\\\~\\\\\\\\newline$According to the definition of torque, is it true that the torque vector is always perpendicular to both the position vector and the force vector?$\\\\\\\\~\\\\\\\\newline~\\\\\\\\~\\\\\\\\newline$',\n",
       "    'answer': 'True',\n",
       "    'explanation': 'The definition of torque is $$τ=r×F$$ where $r$ is the position vector and $F$ is the force vector. The cross product of two vectors is a vector that is perpendicular to both of the original vectors. Therefore, the torque vector is always perpendicular to both the position vector and the force vector.',\n",
       "    'hint': 'Hint: The cross product of two vectors is a vector that is perpendicular to both of the original vectors.'}],\n",
       "  '2-5-equations-of-lines-and-planes-in-space': [None],\n",
       "  '2-6-quadric-surfaces': [{'question': '$\\\\\\\\~\\\\\\\\newline$True or False: A cylinder is a surface that is generated by rotating a line about an axis parallel to the line.\\\\\\\\~\\\\\\\\newline$',\n",
       "    'answer': 'False',\n",
       "    'explanation': 'A cylinder is generated by moving a line parallel to a given line through a given curve. The axis of the cylinder is the line that the rulings are parallel to, and it does not have to be parallel to the rulings.',\n",
       "    'hint': \"Hint: A cylinder's axis is the line the rulings are parallel to and perpendicular to the bases.\"},\n",
       "   None,\n",
       "   {'question': '**True or False:** Quadric surfaces are surfaces whose equations involve terms of degree $2$ or less.',\n",
       "    'answer': 'True',\n",
       "    'explanation': 'The definition of quadric surfaces states that they are the graphs of equations that can be expressed in the form Ax2+By2+Cz2+Dxy+Exz+Fyz+Gx+Hy+Jz+K=0, where $A, B, C, D, E, F, G, H, J,$ and $K$ are constants. This form is a polynomial of degree $2$, so the statement is true.',\n",
       "    'hint': 'Hint: Consider the general form of a quadratic equation.'}],\n",
       "  '2-7-cylindrical-and-spherical-coordinates': [{'question': '**True or False:** \\\\\\\\(\\\\\\\\text{In cylindrical coordinates, the } z \\\\\\\\)-coordinate represents the distance from the point to the \\\\\\\\( xy \\\\\\\\)-plane.',\n",
       "    'answer': '**True**',\n",
       "    'explanation': \"In cylindrical coordinates, a point in space is represented by the ordered triple \\\\\\\\((r, \\\\\\\\theta, z)\\\\\\\\), where \\\\\\\\(r\\\\\\\\) and \\\\\\\\(\\\\\\\\theta\\\\\\\\) are the polar coordinates of the point's projection in the \\\\\\\\(xy\\\\\\\\)-plane and \\\\\\\\(z\\\\\\\\) is the usual \\\\\\\\(z\\\\\\\\)-coordinate in the Cartesian coordinate system. Therefore, the \\\\\\\\(z\\\\\\\\)-coordinate represents the distance from the point to the \\\\\\\\(xy\\\\\\\\)-plane.\",\n",
       "    'hint': 'Hint: Think about the relationship between cylindrical coordinates and Cartesian coordinates.'},\n",
       "   None]},\n",
       " 'Vector-Valued Functions': {'3-1-vector-valued-functions-and-space-curves': [{'question': 'Determine if the following statement is true or false:\\\\\\\\\\\\n\\\\nA vector-valued function can only be defined in two dimensions.',\n",
       "    'answer': 'False',\n",
       "    'explanation': 'According to the given definition, a vector-valued function can be defined in both two and three dimensions. A two-dimensional vector-valued function is written in the form \\\\\\\\(r(t)=f(t)i+g(t)j\\\\\\\\), while a three-dimensional vector-valued function is written in the form \\\\\\\\(r(t)=f(t)i+g(t)j+h(t)k\\\\\\\\). Therefore, the statement is false.',\n",
       "    'hint': 'Hint: Consider the different possible dimensions for vector-valued functions.'},\n",
       "   None,\n",
       "   None],\n",
       "  '3-2-calculus-of-vector-valued-functions': [{'question': \"\\\\\\\\( r'(t) = lim_{\\\\\\\\Delta t \\\\\\\\to 0}  \\\\frac{r(t+\\\\\\\\Delta t)-r(t)}{\\\\\\\\Delta t} \\\\\\\\) is defined to be the derivative of the vector-valued function $r(t)$. Which of the following is true?\",\n",
       "    'answer': 'True',\n",
       "    'explanation': 'The provided definition clearly states that if the limit exits then the vector-valued function $r(t)$ is differentiable at that point.',\n",
       "    'hint': 'Hint: \"The definition of the derivative of a vector-valued function.\"'},\n",
       "   None,\n",
       "   None],\n",
       "  '3-3-arc-length-and-curvature': [None, None],\n",
       "  '3-4-motion-in-space': [{'question': 'True or False: The velocity vector of an object is always parallel to its acceleration vector.',\n",
       "    'answer': 'False',\n",
       "    'explanation': 'The velocity vector of an object is defined as the derivative of its position vector with respect to time, while the acceleration vector is defined as the derivative of its velocity vector with respect to time. In general, the velocity vector and the acceleration vector are not parallel. For example, if an object is moving in a circular path, its velocity vector will be tangent to the circle, while its acceleration vector will be pointing towards the center of the circle.',\n",
       "    'hint': 'Hint: Consider the motion of an object in a circular path.'}]},\n",
       " 'Differentiation of Functions of Several Variables': {'4-1-functions-of-several-variables': [None,\n",
       "   None,\n",
       "   None,\n",
       "   {'question': '**True or False:** A level surface of a function of three variables is the set of all points where the function value is equal to a given constant.',\n",
       "    'answer': 'True',\n",
       "    'explanation': 'The provided definition of a level surface explicitly states that it is the set of all points where the function value is equal to a given constant. Therefore, the statement is true.',\n",
       "    'hint': 'Hint: Consider the definition of a level surface.'}],\n",
       "  '4-2-limits-and-continuity': [None,\n",
       "   {'question': 'Let $f(x, y)$ be a function of two variables $x$ and $y$. Suppose that for any $\\\\varepsilon > 0$, there exists a $\\\\delta > 0$ such that whenever $0 < (x-a)^2+(y-b)^2 < \\\\delta$, we have $|f(x,y)-L| < \\\\varepsilon$. Then, according to the definition of a limit, what can you conclude about the limit of $f(x, y)$ as $(x, y) \\\\rightarrow (a, b)$?\\\\n\\\\n(a) The limit of $f(x, y)$ as $(x, y) \\\\rightarrow (a, b)$ is $L$.\\\\n(b) The limit of $f(x, y)$ as $(x, y) \\\\rightarrow (a, b)$ does not exist.\\\\n(c) The limit of $f(x, y)$ as $(x, y) \\\\rightarrow (a, b)$ is $0$.\\\\n(d) The limit of $f(x, y)$ as $(x, y) \\\\rightarrow (a, b)$ is $\\\\infty$.',\n",
       "    'answer': '(a)',\n",
       "    'explanation': 'The given condition is the definition of a limit. Therefore, we can conclude that the limit of $f(x, y)$ as $(x, y) \\\\rightarrow (a, b)$ is $L$.\\\\n\\\\n**Example:** Consider the function $f(x, y) = \\\\frac{x^2+y^2}{x^2+y^2-1}$. It can be shown that for any $\\\\varepsilon > 0$, there exists a $\\\\delta > 0$ such that whenever $0 < (x-0)^2+(y-0)^2 < \\\\delta$, we have $|f(x,y)-1| < \\\\varepsilon$. Therefore, by the definition of a limit, the limit of $f(x, y)$ as $(x, y) \\\\rightarrow (0, 0)$ is $1$. This means that as $(x, y)$ approaches $(0, 0)$, the value of $f(x, y)$ approaches $1$.',\n",
       "    'hint': 'Hint: Think about the definition of a limit and what the given condition implies about the behavior of $f(x, y)$ as $(x, y)$ approaches $(a, b)$.'},\n",
       "   None,\n",
       "   {'question': '**True or False:** A subset of ℝ\\\\\\\\(^2\\\\\\\\) is open if it contains all its boundary points.',\n",
       "    'answer': 'False',\n",
       "    'explanation': 'According to the given definition, a subset of ℝ\\\\\\\\(^2\\\\\\\\) is called an open set if every point of the subset is an interior point. An interior point is a point that lies completely inside the set, and is not on the boundary. On the other hand, a closed set is a set that contains all its boundary points. Therefore, an open set cannot contain all its boundary points, and the given statement is false.',\n",
       "    'hint': 'Hint: Consider the definition of an open set in ℝ\\\\(^2\\\\): a subset of ℝ\\\\(^2\\\\) is open if every point of the subset is an interior point. An interior point is a point that lies completely inside the set, and is not on the boundary.'},\n",
       "   None,\n",
       "   {'question': '**True or False:**\\\\n\\\\nConsider the function $f(x, y) = \\\\\\\\frac{x^2 - y^2}{x^2 + y^2}$.\\\\n\\\\nIf the limit of $f(x, y)$ as $(x, y)$ approaches $(0, 0)$ exists, then $f(x, y)$ must be defined at $(0, 0)$.\\\\n\\\\n**Explanation:**\\\\n\\\\nThe given definition of a limit does not require the function to be defined at the point $(a, b)$. Therefore, this statement is **false**. For example, consider the function $f(x, y) = \\\\\\\\frac{x^2 - y^2}{x^2 + y^2}$. The limit of $f(x, y)$ as $(x, y)$ approaches $(0, 0)$ exists and is equal to $0$, but $f(x, y)$ is not defined at $(0, 0)$.',\n",
       "    'answer': 'False',\n",
       "    'explanation': 'The given definition of a limit does not require the function to be defined at the point $(a, b)$. Therefore, this statement is **false**. For example, consider the function $f(x, y) = \\\\\\\\frac{x^2 - y^2}{x^2 + y^2}$. The limit of $f(x, y)$ as $(x, y)$ approaches $(0, 0)$ exists and is equal to $0$, but $f(x, y)$ is not defined at $(0, 0)$.',\n",
       "    'hint': 'Hint: Remember that the definition of a limit does not require the function to be defined at the given point.'},\n",
       "   None,\n",
       "   None],\n",
       "  '4-3-partial-derivatives': [{'question': 'True or False: The partial derivative of a function $f(x, y)$ with respect to $x$ is defined as the limit as $h$ approaches 0 of the difference quotient $\\\\\\\\frac{f(x + h, y) - f(x, y)}{h}$.',\n",
       "    'answer': 'True',\n",
       "    'explanation': 'The given definition in the reference text matches the definition provided in the question. Specifically, the definition states that the partial derivative of $f(x, y)$ with respect to $x$ is defined as $\\\\\\\\partial f / \\\\\\\\partial x = \\\\\\\\lim_{h \\\\\\\\rightarrow 0} \\\\\\\\frac{f(x + h, y) - f(x, y)}{h}$. Therefore, the statement is true.',\n",
       "    'hint': 'Hint: Refer to the definition of the partial derivative of a function with two variables.'},\n",
       "   {'question': '$\\\\\\\\newline$**True or False:** The partial derivative of a function $f(x,y,z)$ with respect to $x$ is defined as the limit as $h$ approaches $0$ of the difference quotient$\\\\\\\\newline$$\\\\\\\\frac{f(x+h,y,z)-f(x,y,z)}{h}.$**$\\\\\\\\newline$**Explanation:** The given definition of the partial derivative of $f$ with respect to $x$ is$\\\\\\\\newline$$\\\\\\\\partial_x f(x,y,z) = lim_{h\\\\\\\\to 0} \\\\\\\\frac{f(x+h,y,z)-f(x,y,z)}{h}.$$$\\\\\\\\newline$Therefore, the statement is $**True**$.',\n",
       "    'answer': 'True',\n",
       "    'explanation': 'The given definition of the partial derivative of $f$ with respect to $x$ is$\\\\\\\\newline$$\\\\\\\\partial_x f(x,y,z) = lim_{h\\\\\\\\to 0} \\\\\\\\frac{f(x+h,y,z)-f(x,y,z)}{h}.$$$\\\\\\\\newline$Therefore, the statement is $**True**$.',\n",
       "    'problem_aspects': ['Partial derivatives',\n",
       "     'Definition of a partial derivative',\n",
       "     'Limit definition of a partial derivative'],\n",
       "    'tags': ['Multivariable Calculus', 'Partial Derivatives', 'Limits'],\n",
       "    'hints': ['Recall the definition of the partial derivative.',\n",
       "     'Consider the difference quotient for the partial derivative.',\n",
       "     'Evaluate the limit of the difference quotient.'],\n",
       "    'hint': 'Hint: Consider the formal definition of the partial derivative of a function $f(x,y,z)$ with respect to $x$.'}],\n",
       "  '4-4-tangent-planes-and-linear-approximations': [None,\n",
       "   None,\n",
       "   None,\n",
       "   None,\n",
       "   {'question': '$\\\\\\\\~\\\\\\\\newline$**True or False:**$\\\\\\\\~\\\\\\\\newline$In the definition of the total differential, the differentials $dx$ and $dy$ are defined as the changes in $x$ and $y$, respectively, that move the point $(x_0, y_0)$ to $(x_0 + dx, y_0 + dy)$.$\\\\\\\\~\\\\\\\\newline$',\n",
       "    'answer': 'True',\n",
       "    'explanation': '$\\\\\\\\~\\\\\\\\newline$**Explanation:**$\\\\\\\\~\\\\\\\\newline$According to the given definition, the differentials $dx$ and $dy$ are indeed defined as the changes in $x$ and $y$, respectively, that move the point $(x_0, y_0)$ to $(x_0 + dx, y_0 + dy)$. Specifically, $dx = \\\\\\\\Delta x$ and $dy = \\\\\\\\Delta y$, where $\\\\\\\\Delta x$ and $\\\\\\\\Delta y$ are chosen so that $(x_0 + \\\\\\\\Delta x, y_0 + \\\\\\\\Delta y)$ is also in the domain of the function $f$.$\\\\\\\\~\\\\\\\\newline$',\n",
       "    'hint': 'Hint: The total differential is defined as the sum of the partial derivatives of a function multiplied by the differentials of the independent variables.'},\n",
       "   None],\n",
       "  '4-5-the-chain-rule': [],\n",
       "  '4-6-directional-derivatives-and-the-gradient': [None,\n",
       "   None,\n",
       "   {'question': '$\\\\\\\\~\\\\\\\\newline$**True or False:** The gradient of a function $f(x, y, z)$ is a vector that points in the direction of **greatest** decrease of the function.\\\\\\\\~\\\\\\\\newline$\\\\\\\\~\\\\\\\\newline$**Explanation:** The gradient of a function points in the direction of **greatest** increase, not decrease. The negative gradient points in the direction of greatest decrease.\\\\\\\\~\\\\\\\\newline$\\\\\\\\~\\\\\\\\newline$**Example:** Consider the function $f(x, y) = x^2 + y^2$. The gradient of this function is $\\\\\\\\nabla f(x, y) = 2x \\\\\\\\mathbf{i} + 2y \\\\\\\\mathbf{j}$. This vector points in the direction of greatest increase, which is in the direction of the vector $\\\\\\\\langle 2x, 2y \\\\\\\\rangle$.',\n",
       "    'answer': 'False',\n",
       "    'explanation': 'The gradient of a function points in the direction of greatest increase, not decrease.',\n",
       "    'hint': 'Hint: The gradient of a function actually points in the direction of the greatest increase of the function.'},\n",
       "   None],\n",
       "  '4-7-maxima-minima-problems': [{'question': '**True or False:** A critical point of a function of two variables $f(x, y)$ is always a point where the function has a maximum or minimum value.',\n",
       "    'answer': 'False',\n",
       "    'explanation': '**Explanation:** A critical point is a point where the partial derivatives of the function are either zero or do not exist. While critical points are often associated with maximum or minimum values, this is not always the case. For example, the function $f(x, y) = x^2 + y^2$ has a critical point at (0,0), but this point is neither a maximum nor a minimum. Instead, it is a saddle point.',\n",
       "    'hint': 'Hint: Consider the function $f(x, y) = x^2 + y^2$.'},\n",
       "   {'question': 'Let $z=f(x,y)$ be a function of two variables that is defined and continuous on an open set containing the point $(x_0,y_0)$. If $f(x_0,y_0) > f(x,y)$ for all points $(x,y)$ within a disk centered at $(x_0,y_0)$, then $f$ has a local minimum at $(x_0,y_0)$.',\n",
       "    'answer': 'False',\n",
       "    'explanation': 'The given condition $f(x_0,y_0) > f(x,y)$ for all points $(x,y)$ within a disk centered at $(x_0,y_0)$ indicates that $f$ has a local maximum at $(x_0,y_0)$, not a local minimum. A local minimum occurs when $f(x_0,y_0) \\\\leq f(x,y)$ for all points $(x,y)$ within a disk centered at $(x_0,y_0)$.',\n",
       "    'hint': 'Hint: Consider the definition of a local minimum.'},\n",
       "   None],\n",
       "  '4-8-lagrange-multipliers': []},\n",
       " 'Multiple Integration': {'5-1-double-integrals-over-rectangular-regions': [None,\n",
       "   None,\n",
       "   None,\n",
       "   None],\n",
       "  '5-2-double-integrals-over-general-regions': [{'question': 'Consider the region $R$ defined by $\\\\\\\\{ (x, y) | 0 \\\\\\\\leq x \\\\\\\\leq 2, x^2 \\\\\\\\leq y \\\\\\\\leq x + 2 \\\\\\\\}$. Is $R$ a Type I region?',\n",
       "    'answer': 'True',\n",
       "    'explanation': 'A Type I region is a region that lies between two vertical lines and the graphs of two continuous functions. In this case, $R$ lies between the vertical lines $x = 0$ and $x = 2$, and the graphs of the continuous functions $g_1(x) = x^2$ and $g_2(x) = x + 2$. Therefore, $R$ is a Type I region.',\n",
       "    'hint': 'Hint: Consider the boundaries of the region and the type of function that defines the upper and lower boundaries.'},\n",
       "   {'question': 'True or False: The area of the region bounded by the curves \\\\\\\\(y = x^2\\\\\\\\) and \\\\\\\\(y = 4\\\\\\\\) can be calculated using the double integral \\\\\\\\(\\\\iint_{D} 1\\\\\\\\ dA\\\\\\\\), where \\\\\\\\(D\\\\\\\\) is the region enclosed by the curves.',\n",
       "    'answer': 'True',\n",
       "    'explanation': 'The definition of the area of a plane-bounded region \\\\\\\\(D\\\\\\\\) is given by the double integral \\\\\\\\(\\\\iint_{D} 1\\\\\\\\ dA\\\\\\\\). In this case, the region \\\\\\\\(D\\\\\\\\) is bounded by the curves \\\\\\\\(y = x^2\\\\\\\\) and \\\\\\\\(y = 4\\\\\\\\), so the area of this region can be calculated using the double integral \\\\\\\\(\\\\iint_{D} 1\\\\\\\\ dA\\\\\\\\).',\n",
       "    'hint': 'Hint: The definition of the area of a plane-bounded region involves a double integral.'},\n",
       "   None,\n",
       "   {'question': '**True or False:** Consider two continuous random variables \\\\(X\\\\) and \\\\(Y\\\\). The joint probability density function \\\\(f(x, y)\\\\) of \\\\(X\\\\) and \\\\(Y\\\\) must satisfy the following conditions:\\\\n\\\\n1. \\\\(f(x, y) \\\\geq 0\\\\) for all values of \\\\(x\\\\) and \\\\(y\\\\). \\\\n2. The integral of \\\\(f(x, y)\\\\) over the entire real plane is equal to 1.\\\\n\\\\nExplain your answer.',\n",
       "    'answer': '**True.**\\\\n\\\\nThe given conditions are part of the definition of a joint probability density function. They ensure that the probability of observing a particular pair of values for \\\\(X\\\\) and \\\\(Y\\\\) is non-negative and that the total probability of observing any pair of values is 1.',\n",
       "    'explanation': '**Example:**\\\\n\\\\nSuppose \\\\(X\\\\) and \\\\(Y\\\\) represent the heights of two randomly selected people. The joint probability density function \\\\(f(x, y)\\\\) might be a function that is positive for all values of \\\\(x\\\\) and \\\\(y\\\\) and integrates to 1 over the entire real plane. This function would satisfy the given conditions because it would ensure that the probability of observing any particular pair of heights is non-negative and that the total probability of observing any pair of heights is 1.',\n",
       "    'hint': 'Hint: The two conditions mentioned in the true/false statement are part of the definition of a joint probability density function.'},\n",
       "   {'question': '$\\\\\\\\~\\\\\\\\newline~True~or~False:~X~and~Y~are~independent~random~variables~if~and~only~if~their~joint~density~function~is~the~product~of~their~individual~density~functions.',\n",
       "    'answer': 'True',\n",
       "    'explanation': '$\\\\\\\\~\\\\\\\\newline~The~definition~of~independent~random~variables~states~that~X~and~Y~are~independent~if~and~only~if~their~joint~density~function~is~the~product~of~their~individual~density~functions.~Therefore,~the~given~statement~is~true.~For~example,~if~X~and~Y~are~independent~and~have~probability~density~functions~f1(x)~and~f2(y),~respectively,~then~their~joint~density~function~is~given~by~f(x,y)~=~f1(x)f2(y).',\n",
       "    'hint': 'Hint: The definition of independent random variables states that X and Y are independent if and only if their joint density function is the product of their individual density functions.'},\n",
       "   None],\n",
       "  '5-3-double-integrals-in-polar-coordinates': [None],\n",
       "  '5-4-triple-integrals': [None],\n",
       "  '5-5-triple-integrals-in-cylindrical-and-spherical-coordinates': [None,\n",
       "   {'question': '**True or False:** The triple integral in spherical coordinates is defined as the limit of a triple Riemann sum, where the limit is taken as the number of subdivisions of the region in each coordinate direction approaches infinity.',\n",
       "    'answer': 'True',\n",
       "    'explanation': 'The definition of the triple integral in spherical coordinates is the limit of a triple Riemann sum, where the limit is taken as the number of subdivisions of the region in each coordinate direction approaches infinity. This is analogous to the definition of the double integral in rectangular coordinates as the limit of a double Riemann sum.',\n",
       "    'hint': 'Hint: Consider the definition of the triple integral in spherical coordinates.'}],\n",
       "  '5-6-calculating-centers-of-mass-and-moments-of-inertia': [{'question': 'Consider a solid object $Q$ with density function $\\\\rho(x, y, z)$ at any point $(x, y, z)$ in space. Let $c$ be the centroid of $Q$. Which of the following statements is true?',\n",
       "    'answer': 'True',\n",
       "    'explanation': 'The provided definition states that for a solid object $Q$ with density function $\\\\rho(x, y, z)$, the center of mass $(x_-, y_-, z_-)$ is given by $x_- = \\\\frac{Myz}{m}, y_- = \\\\frac{Mxz}{m}, z_- = \\\\frac{Mxy}{m}$, where $m$ is the mass of the object. If $c$ is the centroid of $Q$, then it is the center of mass of $Q$. Therefore, $c = (x_-, y_-, z_-)$, which means that the statement is true.',\n",
       "    'hint': 'Hint: Consider the definition of the center of mass and its coordinates.'}],\n",
       "  '5-7-change-of-variables-in-multiple-integrals': [{'question': 'Consider the following transformations:\\\\n\\\\n1. $T(u, v) = (u^2, v^2)$\\\\n2. $T(u, v) = (u, u + v)$\\\\n\\\\nWhich of the following statements is true?\\\\n\\\\nA. Both transformations are one-to-one.\\\\nB. Neither transformation is one-to-one.\\\\nC. Only the first transformation is one-to-one.\\\\nD. Only the second transformation is one-to-one.',\n",
       "    'answer': 'C',\n",
       "    'explanation': 'A transformation is one-to-one if no two distinct points in the domain map to the same point in the range.\\\\n\\\\n* For the first transformation, $T(u, v) = (u^2, v^2)$, consider the points $(1, 1)$ and $(-1, 1)$. Both of these points map to the same image point $(1, 1)$, so this transformation is not one-to-one.\\\\n\\\\n* For the second transformation, $T(u, v) = (u, u + v)$, consider the points $(1, 0)$ and $(0, 1)$. These points map to the distinct image points $(1, 1)$ and $(0, 1)$, respectively, so this transformation is one-to-one.\\\\n\\\\nTherefore, the correct answer is **C. Only the second transformation is one-to-one.**',\n",
       "    'hint': 'Hint: Consider which transformation does not map two distinct points to the same point.'},\n",
       "   None,\n",
       "   {'question': 'Consider the following transformation equations:\\\\n\\\\n\\\\\\\\( x = 2u - v + w \\\\)\\\\\\\\\\\\n\\\\n\\\\\\\\( y = u + 2v - w \\\\)\\\\\\\\\\\\n\\\\n\\\\\\\\( z = u - v + 2w \\\\)\\\\\\\\\\\\n\\\\nDetermine if the following statement is True or False: \\\\n\\\\nThe Jacobian determinant for this transformation is given by:\\\\n\\\\n\\\\\\\\( J(u,v,w) = |\\\\\\\\frac{\\\\\\\\partial x}{\\\\\\\\partial u}  \\\\\\\\frac{\\\\\\\\partial x}{\\\\\\\\partial v}  \\\\\\\\frac{\\\\\\\\partial x}{\\\\\\\\partial w}|\\\\\\\\)\\\\\\\\\\\\n\\\\n\\\\\\\\(             |\\\\\\\\frac{\\\\\\\\partial y}{\\\\\\\\partial u}  \\\\\\\\frac{\\\\\\\\partial y}{\\\\\\\\partial v}  \\\\\\\\frac{\\\\\\\\partial y}{\\\\\\\\partial w}|\\\\\\\\)\\\\\\\\\\\\n\\\\n\\\\\\\\(             |\\\\\\\\frac{\\\\\\\\partial z}{\\\\\\\\partial u}  \\\\\\\\frac{\\\\\\\\partial z}{\\\\\\\\partial v}  \\\\\\\\frac{\\\\\\\\partial z}{\\\\\\\\partial w}|\\\\\\\\) \\\\n\\\\n\\\\n\\\\n',\n",
       "    'answer': 'True',\n",
       "    'explanation': 'The definition of the Jacobian determinant in three variables is given by:\\\\n\\\\n\\\\\\\\( J(u,v,w) = |\\\\\\\\frac{\\\\\\\\partial x}{\\\\\\\\partial u}  \\\\\\\\frac{\\\\\\\\partial x}{\\\\\\\\partial v}  \\\\\\\\frac{\\\\\\\\partial x}{\\\\\\\\partial w}|\\\\\\\\)\\\\n\\\\n\\\\\\\\(             |\\\\\\\\frac{\\\\\\\\partial y}{\\\\\\\\partial u}  \\\\\\\\frac{\\\\\\\\partial y}{\\\\\\\\partial v}  \\\\\\\\frac{\\\\\\\\partial y}{\\\\\\\\partial w}|\\\\\\\\)\\\\n\\\\n\\\\\\\\(             |\\\\\\\\frac{\\\\\\\\partial z}{\\\\\\\\partial u}  \\\\\\\\frac{\\\\\\\\partial z}{\\\\\\\\partial v}  \\\\\\\\frac{\\\\\\\\partial z}{\\\\\\\\partial w}|\\\\\\\\) \\\\n\\\\nTherefore, the given statement is True.',\n",
       "    'hint': 'Hint: The definition of the Jacobian determinant for a transformation involving three variables should be considered.'}]},\n",
       " 'Vector Calculus': {'6-1-vector-fields': [{'question': '**True or False:** A vector field in $\\\\\\\\mathbb{R}^3$ can be defined at every point in the entire three-dimensional space.',\n",
       "    'answer': 'False',\n",
       "    'explanation': 'The definition of a vector field specifies that it is an assignment of a vector to each point in a **subset** of the domain. It is not necessary for the domain to be the entire space. For example, a vector field could be defined only on the unit sphere or within a specific region of a cube.',\n",
       "    'hint': 'Hint: Consider the definition of a vector field.'},\n",
       "   {'question': '**True or False:** A vector field \\\\\\\\(\\\\\\\\mathbf{F}\\\\\\\\) in \\\\\\\\(\\\\\\\\mathbb{R}^2\\\\\\\\) or \\\\\\\\(\\\\\\\\mathbb{R}^3\\\\\\\\) is always a gradient field.',\n",
       "    'answer': 'False',\n",
       "    'explanation': 'A vector field \\\\\\\\(\\\\\\\\mathbf{F}\\\\\\\\) in \\\\\\\\(\\\\\\\\mathbb{R}^2\\\\\\\\) or \\\\\\\\(\\\\\\\\mathbb{R}^3\\\\\\\\) is only a gradient field if there exists a scalar function \\\\\\\\(f\\\\\\\\) such that \\\\\\\\(\\\\\\\\nabla f = \\\\\\\\mathbf{F}\\\\\\\\). Not all vector fields satisfy this condition. For example, the vector field \\\\\\\\(\\\\\\\\mathbf{F} = (y, -x)\\\\\\\\) in \\\\\\\\(\\\\\\\\mathbb{R}^2\\\\\\\\) is not a gradient field because there is no scalar function \\\\\\\\(f\\\\\\\\) such that \\\\\\\\(\\\\\\\\nabla f = (y, -x)\\\\\\\\).',\n",
       "    'hint': 'Hint: Consider the case when the vector field is not conservative.'}],\n",
       "  '6-2-line-integrals': [None,\n",
       "   {'question': 'Consider a vector field $F(x, y) = (x, y)$ and a smooth curve $C$ given by $y = x^2$.\\\\n\\\\nEvaluate the following statement: \\\\n\\\\nThe vector line integral of $F$ along $C$ from $(-1, 1)$ to $(1, 1)$ is equal to $0$.',\n",
       "    'answer': 'True',\n",
       "    'explanation': '**Definition of the Vector Line Integral:**\\\\nThe vector line integral of a vector field $F(x, y)$ along a smooth curve $C$ is given by:\\\\n\\\\n∫CF⋅Tds=limn→∞∑i=1nF(Pi*)·T(Pi*)Δsi\\\\n\\\\nwhere $T$ is the unit tangent vector to $C$ at the point $P_i^*$ and $Δs_i$ is the arc length of the $i$th subinterval of the partition of $C$.\\\\n\\\\n**Parametrization of the Curve:**\\\\nThe given curve $y = x^2$ can be parametrized as $r(t) = (t, t^2)$ for $t ∈ [-1, 1]$.\\\\n\\\\n**Unit Tangent Vector:**\\\\nThe unit tangent vector to $C$ is given by:\\\\n\\\\nT(t)=r′(t)∥r′(t)∥=(1,2t)∥1,2t∥=(12t)2+1)1/2\\\\n\\\\n**Vector Field Evaluation:**\\\\nThe vector field $F(x, y) = (x, y)$ evaluated along the curve $C$ is:\\\\n\\\\nF(r(t))=(t,t2)\\\\n\\\\n**Vector Line Integral:**\\\\nSubstituting the parametrization, unit tangent vector, and vector field evaluation into the definition of the vector line integral, we get:\\\\n\\\\n∫CF⋅Tds=limn→∞∑i=1nF(Pi*)·T(Pi*)Δsi\\\\n=limn→∞∑i=1n(ti*,(ti*)2)·(12(ti*)2+1)1/2Δsi\\\\n=limn→∞∑i=1n(ti*Δsi)2(ti*)2+1\\\\n=limn→∞∑i=1nti*2Δsi2(ti*)2+1\\\\n\\\\n**Evaluating the Limit:**\\\\nAs $n → ∞$, the arc length of each subinterval approaches $0$, and the sum becomes an integral:\\\\n\\\\n=∫−11t22t2+1dt\\\\n=[t−arctan(t)]−11\\\\n=0\\\\n\\\\nTherefore, the vector line integral of $F$ along $C$ from $(-1, 1)$ to $(1, 1)$ is indeed $0$, confirming the given statement as **TRUE**.',\n",
       "    'hint': 'Hint: Use the definition of the vector line integral and parametrize the given curve.'},\n",
       "   {'question': '**True or False:** The flux of a vector field \\\\\\\\(\\\\\\\\mathbf{F}\\\\\\\\) across a smooth oriented curve \\\\\\\\(C\\\\\\\\) is given by the line integral \\\\\\\\(\\\\\\\\int_C \\\\\\\\mathbf{F} \\\\\\\\cdot \\\\\\\\mathbf{n} \\\\\\\\, ds\\\\\\\\), where \\\\\\\\(\\\\\\\\mathbf{n}\\\\\\\\) is the unit normal vector to \\\\\\\\(C\\\\\\\\) and \\\\\\\\(ds\\\\\\\\) is the arc length parameterization of \\\\\\\\(C\\\\\\\\).',\n",
       "    'answer': 'True',\n",
       "    'explanation': '**Explanation:** The definition of the flux of a vector field \\\\\\\\(\\\\\\\\mathbf{F}\\\\\\\\) across a smooth oriented curve \\\\\\\\(C\\\\\\\\) is given by the line integral \\\\\\\\(\\\\\\\\int_C \\\\\\\\mathbf{F} \\\\\\\\cdot \\\\\\\\mathbf{n} \\\\\\\\, ds\\\\\\\\), where \\\\\\\\(\\\\\\\\mathbf{n}\\\\\\\\) is the unit normal vector to \\\\\\\\(C\\\\\\\\) and \\\\\\\\(ds\\\\\\\\) is the arc length parameterization of \\\\\\\\(C\\\\\\\\). Therefore, the given statement is true.',\n",
       "    'hint': 'Hint: Integral over the curve'}],\n",
       "  '6-3-conservative-vector-fields': [None, None, None],\n",
       "  '6-4-greens-theorem': [],\n",
       "  '6-5-divergence-and-curl': [{'question': '**Question:**\\\\n\\\\nTrue or False: For a vector field \\\\\\\\(\\\\\\\\mathbf{F} = \\\\\\\\langle P, Q, R \\\\\\\\rangle\\\\\\\\) in \\\\\\\\(\\\\\\\\mathbb{R}^3\\\\\\\\), if \\\\\\\\(P_x\\\\\\\\), \\\\\\\\(Q_y\\\\\\\\), and \\\\\\\\(R_z\\\\\\\\) exist, then the divergence of \\\\\\\\(\\\\\\\\mathbf{F}\\\\\\\\) is given by \\\\\\\\(\\\\\\\\nabla \\\\\\\\cdot \\\\\\\\mathbf{F} = P_x + Q_y + R_z\\\\\\\\).',\n",
       "    'answer': '**Answer:**\\\\n\\\\nTrue',\n",
       "    'explanation': '**Explanation:**\\\\n\\\\nThe given statement is the definition of the divergence of a vector field in three dimensions. The divergence of a vector field \\\\\\\\(\\\\\\\\mathbf{F} = \\\\\\\\langle P, Q, R \\\\\\\\rangle\\\\\\\\) is defined as the sum of the partial derivatives of its components with respect to the corresponding coordinate variables, i.e., \\\\\\\\(\\\\\\\\nabla \\\\\\\\cdot \\\\\\\\mathbf{F} = \\\\\\\\frac{\\\\\\\\partial P}{\\\\\\\\partial x} + \\\\\\\\frac{\\\\\\\\partial Q}{\\\\\\\\partial y} + \\\\\\\\frac{\\\\\\\\partial R}{\\\\\\\\partial z}\\\\\\\\). Therefore, if \\\\\\\\(P_x\\\\\\\\), \\\\\\\\(Q_y\\\\\\\\), and \\\\\\\\(R_z\\\\\\\\) exist, then the divergence of \\\\\\\\(\\\\\\\\mathbf{F}\\\\\\\\) is indeed given by \\\\\\\\(\\\\\\\\nabla \\\\\\\\cdot \\\\\\\\mathbf{F} = P_x + Q_y + R_z\\\\\\\\).',\n",
       "    'hint': 'Hint: Think about the definition of the divergence of a vector field in three dimensions.'},\n",
       "   {'question': '**True or False:** The curl of a vector field is a scalar field.',\n",
       "    'answer': 'False',\n",
       "    'explanation': 'The definition of the curl of a vector field states that the curl of a vector field is a vector field. This is in contrast to the divergence of a vector field, which is a scalar field.',\n",
       "    'hint': 'Hint: The curl of a vector field measures the **rotational** behavior of the field.'}],\n",
       "  '6-6-surface-integrals': [{'question': '**True or False:** The parameter domain of a parameterization of a surface is the set of all points in the $uv$-plane that, when substituted into the parameterization functions, produce a point on the surface.',\n",
       "    'answer': 'True',\n",
       "    'explanation': 'A parameter domain is an area of the $uv$-plane that can be mapped onto the surface. In other words, it is the set of all points $(u, v)$ such that $r(u, v)$ is a point on the surface. For example, consider the parameterization $r(u, v) = (u, v, u^2 + v^2)$. The parameter domain of this parameterization is the entire $uv$-plane, because for any point $(u, v)$ in the $uv$-plane, the corresponding point $(u, v, u^2 + v^2)$ is a point on the surface $z = u^2 + v^2$.',\n",
       "    'hint': 'Hint: The parameter domain is the region in the $uv$-plane that maps to the surface.'},\n",
       "   {'question': '**True or False:** A parameterization $\\\\\\\\mathbf{r}(u, v) = \\\\\\\\langle x(u, v), y(u, v), z(u, v) \\\\\\\\rangle$ is regular if the position vector $\\\\\\\\mathbf{r}(u_0, v_0)$ is not differentiable at the point $(u_0, v_0)$.',\n",
       "    'answer': 'False',\n",
       "    'explanation': 'The definition of a regular parameterization does not involve the differentiability of the position vector $\\\\\\\\mathbf{r}(u, v)$. Instead, a parameterization is regular if the cross product of the partial derivatives $\\\\\\\\mathbf{r}_u \\\\\\\\times \\\\\\\\mathbf{r}_v$ is non-zero at every point in the parameter domain. This non-zero cross product indicates that the parameterization locally traces out a surface without self-intersections or cusps.',\n",
       "    'hint': 'Hint: Consider the definition of a regular parameterization.'},\n",
       "   None,\n",
       "   {'question': 'Consider a smooth parameterization of a surface $S$, given by \\\\\\\\( r(u, v) = \\\\\\\\langle x(u, v), y(u, v), z(u, v) \\\\\\\\rangle \\\\\\\\) with parameter domain $D$. Suppose $S$ is traced out only once as $(u, v)$ varies over $D$. Which of the following statements is **false** about the surface area of $S$, as defined by the formula \\\\\\\\( \\\\\\\\iint\\\\limits_D \\\\\\\\| \\\\\\\\mathbf{t}_u \\\\\\\\times \\\\\\\\mathbf{t}_v \\\\\\\\| \\\\\\\\ dA \\\\\\\\)?',\n",
       "    'answer': '\\\\\\\\( \\\\\\\\iint\\\\limits_D \\\\\\\\| \\\\\\\\mathbf{t}_u \\\\\\\\times \\\\\\\\mathbf{t}_v \\\\\\\\| \\\\\\\\ dA \\\\\\\\) can be negative.',\n",
       "    'explanation': 'The formula for surface area given in the definition is \\\\\\\\( \\\\\\\\iint\\\\limits_D \\\\\\\\| \\\\\\\\mathbf{t}_u \\\\\\\\times \\\\\\\\mathbf{t}_v \\\\\\\\| \\\\\\\\ dA \\\\\\\\), where $\\\\\\\\mathbf{t}_u$ and $\\\\\\\\mathbf{t}_v$ are the tangent vectors to the surface in the $u$ and $v$ directions, respectively. The cross product $\\\\\\\\mathbf{t}_u \\\\\\\\times \\\\\\\\mathbf{t}_v$ is a vector normal to the surface, and its magnitude $\\\\\\\\| \\\\\\\\mathbf{t}_u \\\\\\\\times \\\\\\\\mathbf{t}_v \\\\\\\\|$ is the area of the parallelogram spanned by $\\\\\\\\mathbf{t}_u$ and $\\\\\\\\mathbf{t}_v$. Since area is always positive, the surface area integral $\\\\\\\\iint\\\\limits_D \\\\\\\\| \\\\\\\\mathbf{t}_u \\\\\\\\times \\\\\\\\mathbf{t}_v \\\\\\\\| \\\\\\\\ dA \\\\\\\\) must also be positive. Therefore, the statement \\\\\\\\( \\\\\\\\iint\\\\limits_D \\\\\\\\| \\\\\\\\mathbf{t}_u \\\\\\\\times \\\\\\\\mathbf{t}_v \\\\\\\\| \\\\\\\\ dA \\\\\\\\) can be negative\\\\\\\\) is **false**.',\n",
       "    'hint': 'Hint: The surface area of a surface is always positive.'},\n",
       "   None,\n",
       "   None],\n",
       "  '6-7-stokes-theorem': [],\n",
       "  '6-8-the-divergence-theorem': []},\n",
       " 'Second-Order Differential Equations': {'7-1-second-order-linear-equations': [{'question': \"$$Consider the differential equation: \\\\\\\\quad y'' + 2xy' + xy = sin(x)$$ Is this differential equation a linear, homogeneous, second-order equation?\",\n",
       "    'answer': 'True',\n",
       "    'explanation': \"The given differential equation is of the form $$a_{2}(x)y'' + a_{1}(x)y' + a_{0}(x)y = r(x)$$ where $$a_{2}(x) = 1, a_{1}(x) = 2x, a_{0}(x) = x, r(x) = \\\\sin(x)$$ Since $a_2(x)$ is not identically zero, the equation is a second-order differential equation. Furthermore, since $r(x) = \\\\sin(x) \\\\neq 0$ for all $x$, the equation is non-homogeneous. Therefore, the given differential equation is a non-homogeneous linear second-order equation.\",\n",
       "    'hint': \"Hint: Check if the differential equation is of the form $$a_{2}(x)y'' + a_{1}(x)y' + a_{0}(x)y = r(x)$$ and verify if $a_2(x) \\\\neq 0$ and $r(x) \\\\neq 0$ for all $x$.\"},\n",
       "   None,\n",
       "   {'question': \"The characteristic equation of the differential equation \\\\\\\\(2y'' - 5y' + 7y = 0\\\\\\\\) is \\\\\\\\(2\\\\lambda^2 - 5\\\\lambda + 7 = 0\\\\\\\\).\",\n",
       "    'answer': 'True',\n",
       "    'explanation': \"The characteristic equation of a differential equation \\\\\\\\(ay''+by'+cy=0\\\\\\\\) is \\\\\\\\(a\\\\lambda^2+b\\\\lambda+c=0\\\\\\\\). For the given differential equation, \\\\\\\\(a=2, b=-5, c=7\\\\\\\\), so the characteristic equation is indeed \\\\\\\\(2\\\\lambda^2 - 5\\\\lambda + 7 = 0\\\\\\\\).\",\n",
       "    'hint': \"Hint: The characteristic equation of a differential equation of the form \\\\(ay''+by'+cy=0\\\\) is \\\\(a\\\\lambda^2+b\\\\lambda+c=0\\\\).\"}],\n",
       "  '7-2-nonhomogeneous-linear-equations': [{'question': '**True or False?**\\\\n\\\\nA particular solution to a differential equation is a solution that contains an arbitrary constant.',\n",
       "    'answer': 'False',\n",
       "    'explanation': 'The definition of a particular solution to a differential equation specifically states that it does **not** contain any arbitrary constants. A particular solution is a specific solution to the equation that is found by solving the equation with specific initial conditions or boundary conditions.',\n",
       "    'hint': 'Hint: Pay attention to the wording of the question and answer.'}],\n",
       "  '7-3-applications': [],\n",
       "  '7-4-series-solutions-of-differential-equations': []}}"
      ]
     },
     "execution_count": 149,
     "metadata": {},
     "output_type": "execute_result"
    }
   ],
   "source": [
    "questions"
   ]
  },
  {
   "cell_type": "code",
   "execution_count": 150,
   "id": "d9e49b33-cd0e-45b5-9f4a-0992a40981c3",
   "metadata": {},
   "outputs": [
    {
     "data": {
      "text/plain": [
       "48"
      ]
     },
     "execution_count": 150,
     "metadata": {},
     "output_type": "execute_result"
    }
   ],
   "source": [
    "count = 0\n",
    "for a, b in questions.items():\n",
    "    for c, d in b.items():\n",
    "        for l in d:\n",
    "            if l != None and l != \"\":\n",
    "                count+=1\n",
    "count"
   ]
  },
  {
   "cell_type": "code",
   "execution_count": 151,
   "id": "a60f1b6a-cd27-456d-81ac-280efb6f5715",
   "metadata": {},
   "outputs": [
    {
     "data": {
      "application/vnd.jupyter.widget-view+json": {
       "model_id": "a8000b9784bb4937bada6b5d5b28baa5",
       "version_major": 2,
       "version_minor": 0
      },
      "text/plain": [
       "  0%|          | 0/7 [00:00<?, ?it/s]"
      ]
     },
     "metadata": {},
     "output_type": "display_data"
    },
    {
     "data": {
      "application/vnd.jupyter.widget-view+json": {
       "model_id": "04d50045dff54025ad8282b61d0df499",
       "version_major": 2,
       "version_minor": 0
      },
      "text/plain": [
       "  0%|          | 0/5 [00:00<?, ?it/s]"
      ]
     },
     "metadata": {},
     "output_type": "display_data"
    },
    {
     "data": {
      "application/vnd.jupyter.widget-view+json": {
       "model_id": "67bba50e2e4e4a3689c8da981f9d32e2",
       "version_major": 2,
       "version_minor": 0
      },
      "text/plain": [
       "  0%|          | 0/1 [00:00<?, ?it/s]"
      ]
     },
     "metadata": {},
     "output_type": "display_data"
    },
    {
     "data": {
      "application/vnd.jupyter.widget-view+json": {
       "model_id": "6a759d4a2d3d4d449253ae5e7fe00da1",
       "version_major": 2,
       "version_minor": 0
      },
      "text/plain": [
       "0it [00:00, ?it/s]"
      ]
     },
     "metadata": {},
     "output_type": "display_data"
    },
    {
     "data": {
      "application/vnd.jupyter.widget-view+json": {
       "model_id": "350f420885544cbd8cae761a67a0ab9e",
       "version_major": 2,
       "version_minor": 0
      },
      "text/plain": [
       "0it [00:00, ?it/s]"
      ]
     },
     "metadata": {},
     "output_type": "display_data"
    },
    {
     "data": {
      "application/vnd.jupyter.widget-view+json": {
       "model_id": "3d8349c4f15f47fd8ae487b1fee0fe1e",
       "version_major": 2,
       "version_minor": 0
      },
      "text/plain": [
       "0it [00:00, ?it/s]"
      ]
     },
     "metadata": {},
     "output_type": "display_data"
    },
    {
     "data": {
      "application/vnd.jupyter.widget-view+json": {
       "model_id": "32f6a9c5aa48414ebae90cc949a0e3f8",
       "version_major": 2,
       "version_minor": 0
      },
      "text/plain": [
       "  0%|          | 0/4 [00:00<?, ?it/s]"
      ]
     },
     "metadata": {},
     "output_type": "display_data"
    },
    {
     "data": {
      "application/vnd.jupyter.widget-view+json": {
       "model_id": "5995f8dc3c3b465890e42591e2f90608",
       "version_major": 2,
       "version_minor": 0
      },
      "text/plain": [
       "  0%|          | 0/7 [00:00<?, ?it/s]"
      ]
     },
     "metadata": {},
     "output_type": "display_data"
    },
    {
     "data": {
      "application/vnd.jupyter.widget-view+json": {
       "model_id": "5f4d674a942c41ab85ba64ffb39c06a3",
       "version_major": 2,
       "version_minor": 0
      },
      "text/plain": [
       "  0%|          | 0/6 [00:00<?, ?it/s]"
      ]
     },
     "metadata": {},
     "output_type": "display_data"
    },
    {
     "data": {
      "application/vnd.jupyter.widget-view+json": {
       "model_id": "a1bc8d7066054d3aa638577b2ea464b6",
       "version_major": 2,
       "version_minor": 0
      },
      "text/plain": [
       "  0%|          | 0/2 [00:00<?, ?it/s]"
      ]
     },
     "metadata": {},
     "output_type": "display_data"
    },
    {
     "data": {
      "application/vnd.jupyter.widget-view+json": {
       "model_id": "2f7b50c0623844dcadb1da0fb538c6d7",
       "version_major": 2,
       "version_minor": 0
      },
      "text/plain": [
       "  0%|          | 0/4 [00:00<?, ?it/s]"
      ]
     },
     "metadata": {},
     "output_type": "display_data"
    },
    {
     "data": {
      "application/vnd.jupyter.widget-view+json": {
       "model_id": "6a7163bd6a4e4bb9a7a5bef899e3ffa8",
       "version_major": 2,
       "version_minor": 0
      },
      "text/plain": [
       "  0%|          | 0/3 [00:00<?, ?it/s]"
      ]
     },
     "metadata": {},
     "output_type": "display_data"
    },
    {
     "data": {
      "application/vnd.jupyter.widget-view+json": {
       "model_id": "41b86700827747c6b3e4ff9056f47649",
       "version_major": 2,
       "version_minor": 0
      },
      "text/plain": [
       "  0%|          | 0/1 [00:00<?, ?it/s]"
      ]
     },
     "metadata": {},
     "output_type": "display_data"
    },
    {
     "data": {
      "application/vnd.jupyter.widget-view+json": {
       "model_id": "23cd225cfa1547eca0323f7aeaa6df95",
       "version_major": 2,
       "version_minor": 0
      },
      "text/plain": [
       "  0%|          | 0/3 [00:00<?, ?it/s]"
      ]
     },
     "metadata": {},
     "output_type": "display_data"
    },
    {
     "data": {
      "application/vnd.jupyter.widget-view+json": {
       "model_id": "1fd80308540741ee9ce007010c339440",
       "version_major": 2,
       "version_minor": 0
      },
      "text/plain": [
       "  0%|          | 0/2 [00:00<?, ?it/s]"
      ]
     },
     "metadata": {},
     "output_type": "display_data"
    },
    {
     "data": {
      "application/vnd.jupyter.widget-view+json": {
       "model_id": "52923d77bf1a4e4cb30293611752f8c8",
       "version_major": 2,
       "version_minor": 0
      },
      "text/plain": [
       "  0%|          | 0/4 [00:00<?, ?it/s]"
      ]
     },
     "metadata": {},
     "output_type": "display_data"
    },
    {
     "data": {
      "application/vnd.jupyter.widget-view+json": {
       "model_id": "705131da89a64549acd78ff7a51bae76",
       "version_major": 2,
       "version_minor": 0
      },
      "text/plain": [
       "  0%|          | 0/3 [00:00<?, ?it/s]"
      ]
     },
     "metadata": {},
     "output_type": "display_data"
    },
    {
     "data": {
      "application/vnd.jupyter.widget-view+json": {
       "model_id": "89892d90c94f42109374624960d31f85",
       "version_major": 2,
       "version_minor": 0
      },
      "text/plain": [
       "  0%|          | 0/3 [00:00<?, ?it/s]"
      ]
     },
     "metadata": {},
     "output_type": "display_data"
    },
    {
     "data": {
      "application/vnd.jupyter.widget-view+json": {
       "model_id": "b6bdec643f37488cbc50230e1dc4e428",
       "version_major": 2,
       "version_minor": 0
      },
      "text/plain": [
       "  0%|          | 0/2 [00:00<?, ?it/s]"
      ]
     },
     "metadata": {},
     "output_type": "display_data"
    },
    {
     "data": {
      "application/vnd.jupyter.widget-view+json": {
       "model_id": "83d0a25f1f4a4c1a9968375a9c605b6a",
       "version_major": 2,
       "version_minor": 0
      },
      "text/plain": [
       "  0%|          | 0/1 [00:00<?, ?it/s]"
      ]
     },
     "metadata": {},
     "output_type": "display_data"
    },
    {
     "data": {
      "application/vnd.jupyter.widget-view+json": {
       "model_id": "8fb78946932e469c9d89fb2fd379c588",
       "version_major": 2,
       "version_minor": 0
      },
      "text/plain": [
       "  0%|          | 0/8 [00:00<?, ?it/s]"
      ]
     },
     "metadata": {},
     "output_type": "display_data"
    },
    {
     "data": {
      "application/vnd.jupyter.widget-view+json": {
       "model_id": "a3654c66d56d45e79a8d98c7acdfd176",
       "version_major": 2,
       "version_minor": 0
      },
      "text/plain": [
       "  0%|          | 0/4 [00:00<?, ?it/s]"
      ]
     },
     "metadata": {},
     "output_type": "display_data"
    },
    {
     "data": {
      "application/vnd.jupyter.widget-view+json": {
       "model_id": "747ce32c0bf7476ca3d2e353832c7aab",
       "version_major": 2,
       "version_minor": 0
      },
      "text/plain": [
       "  0%|          | 0/8 [00:00<?, ?it/s]"
      ]
     },
     "metadata": {},
     "output_type": "display_data"
    },
    {
     "data": {
      "application/vnd.jupyter.widget-view+json": {
       "model_id": "9908d62cea5a475ca91d1ac9cfbac4d2",
       "version_major": 2,
       "version_minor": 0
      },
      "text/plain": [
       "  0%|          | 0/2 [00:00<?, ?it/s]"
      ]
     },
     "metadata": {},
     "output_type": "display_data"
    },
    {
     "data": {
      "application/vnd.jupyter.widget-view+json": {
       "model_id": "4a498e28a0354fcd9d8ac2931080e8c4",
       "version_major": 2,
       "version_minor": 0
      },
      "text/plain": [
       "  0%|          | 0/6 [00:00<?, ?it/s]"
      ]
     },
     "metadata": {},
     "output_type": "display_data"
    },
    {
     "data": {
      "application/vnd.jupyter.widget-view+json": {
       "model_id": "09f969ffaab1425aa12707318390e375",
       "version_major": 2,
       "version_minor": 0
      },
      "text/plain": [
       "0it [00:00, ?it/s]"
      ]
     },
     "metadata": {},
     "output_type": "display_data"
    },
    {
     "data": {
      "application/vnd.jupyter.widget-view+json": {
       "model_id": "786a540e934749ea85d33830158a993e",
       "version_major": 2,
       "version_minor": 0
      },
      "text/plain": [
       "  0%|          | 0/4 [00:00<?, ?it/s]"
      ]
     },
     "metadata": {},
     "output_type": "display_data"
    },
    {
     "data": {
      "application/vnd.jupyter.widget-view+json": {
       "model_id": "72cef122bad04b41b1c966898a39de83",
       "version_major": 2,
       "version_minor": 0
      },
      "text/plain": [
       "  0%|          | 0/3 [00:00<?, ?it/s]"
      ]
     },
     "metadata": {},
     "output_type": "display_data"
    },
    {
     "data": {
      "application/vnd.jupyter.widget-view+json": {
       "model_id": "3b5a584e88534474b9bdeda1907f7cfd",
       "version_major": 2,
       "version_minor": 0
      },
      "text/plain": [
       "0it [00:00, ?it/s]"
      ]
     },
     "metadata": {},
     "output_type": "display_data"
    },
    {
     "data": {
      "application/vnd.jupyter.widget-view+json": {
       "model_id": "ec21d45d3620418eb52ed1e152c8fb3e",
       "version_major": 2,
       "version_minor": 0
      },
      "text/plain": [
       "  0%|          | 0/7 [00:00<?, ?it/s]"
      ]
     },
     "metadata": {},
     "output_type": "display_data"
    },
    {
     "data": {
      "application/vnd.jupyter.widget-view+json": {
       "model_id": "0946f55177c4425fa9550e37e7d4abd6",
       "version_major": 2,
       "version_minor": 0
      },
      "text/plain": [
       "  0%|          | 0/4 [00:00<?, ?it/s]"
      ]
     },
     "metadata": {},
     "output_type": "display_data"
    },
    {
     "data": {
      "application/vnd.jupyter.widget-view+json": {
       "model_id": "7a666fc7ea90450cba3aef12ff339f7a",
       "version_major": 2,
       "version_minor": 0
      },
      "text/plain": [
       "  0%|          | 0/6 [00:00<?, ?it/s]"
      ]
     },
     "metadata": {},
     "output_type": "display_data"
    },
    {
     "data": {
      "application/vnd.jupyter.widget-view+json": {
       "model_id": "9e316f2db4e3417d90ece6ca8968ba73",
       "version_major": 2,
       "version_minor": 0
      },
      "text/plain": [
       "  0%|          | 0/1 [00:00<?, ?it/s]"
      ]
     },
     "metadata": {},
     "output_type": "display_data"
    },
    {
     "data": {
      "application/vnd.jupyter.widget-view+json": {
       "model_id": "2e45f77e58f243f6b7b49c916dfa40bb",
       "version_major": 2,
       "version_minor": 0
      },
      "text/plain": [
       "  0%|          | 0/1 [00:00<?, ?it/s]"
      ]
     },
     "metadata": {},
     "output_type": "display_data"
    },
    {
     "data": {
      "application/vnd.jupyter.widget-view+json": {
       "model_id": "84ca00022f574330abecfcc50b69a332",
       "version_major": 2,
       "version_minor": 0
      },
      "text/plain": [
       "  0%|          | 0/2 [00:00<?, ?it/s]"
      ]
     },
     "metadata": {},
     "output_type": "display_data"
    },
    {
     "data": {
      "application/vnd.jupyter.widget-view+json": {
       "model_id": "c1294d5e30f24aa3bb4016bc376d4996",
       "version_major": 2,
       "version_minor": 0
      },
      "text/plain": [
       "  0%|          | 0/1 [00:00<?, ?it/s]"
      ]
     },
     "metadata": {},
     "output_type": "display_data"
    },
    {
     "data": {
      "application/vnd.jupyter.widget-view+json": {
       "model_id": "7eb17f5028f74e7b8ee9378f469ec4e5",
       "version_major": 2,
       "version_minor": 0
      },
      "text/plain": [
       "  0%|          | 0/3 [00:00<?, ?it/s]"
      ]
     },
     "metadata": {},
     "output_type": "display_data"
    },
    {
     "data": {
      "application/vnd.jupyter.widget-view+json": {
       "model_id": "9b1171225b5d4b41a72ad6015929f90a",
       "version_major": 2,
       "version_minor": 0
      },
      "text/plain": [
       "  0%|          | 0/8 [00:00<?, ?it/s]"
      ]
     },
     "metadata": {},
     "output_type": "display_data"
    },
    {
     "data": {
      "application/vnd.jupyter.widget-view+json": {
       "model_id": "dd710c92bcf947a7aaea6155b255ad7e",
       "version_major": 2,
       "version_minor": 0
      },
      "text/plain": [
       "  0%|          | 0/2 [00:00<?, ?it/s]"
      ]
     },
     "metadata": {},
     "output_type": "display_data"
    },
    {
     "data": {
      "application/vnd.jupyter.widget-view+json": {
       "model_id": "63570cd4de494dfebe4a87595832145c",
       "version_major": 2,
       "version_minor": 0
      },
      "text/plain": [
       "  0%|          | 0/3 [00:00<?, ?it/s]"
      ]
     },
     "metadata": {},
     "output_type": "display_data"
    },
    {
     "data": {
      "application/vnd.jupyter.widget-view+json": {
       "model_id": "0df3223143364dd9bb8910b7a7447fc4",
       "version_major": 2,
       "version_minor": 0
      },
      "text/plain": [
       "  0%|          | 0/3 [00:00<?, ?it/s]"
      ]
     },
     "metadata": {},
     "output_type": "display_data"
    },
    {
     "data": {
      "application/vnd.jupyter.widget-view+json": {
       "model_id": "a8433e6c08624d39a8d1737ee91f3807",
       "version_major": 2,
       "version_minor": 0
      },
      "text/plain": [
       "0it [00:00, ?it/s]"
      ]
     },
     "metadata": {},
     "output_type": "display_data"
    },
    {
     "data": {
      "application/vnd.jupyter.widget-view+json": {
       "model_id": "2f32710ef970491fa5f5fc4121ac18f9",
       "version_major": 2,
       "version_minor": 0
      },
      "text/plain": [
       "  0%|          | 0/2 [00:00<?, ?it/s]"
      ]
     },
     "metadata": {},
     "output_type": "display_data"
    },
    {
     "data": {
      "application/vnd.jupyter.widget-view+json": {
       "model_id": "7e5764c0fd9849cfb61b55756ec9841e",
       "version_major": 2,
       "version_minor": 0
      },
      "text/plain": [
       "  0%|          | 0/6 [00:00<?, ?it/s]"
      ]
     },
     "metadata": {},
     "output_type": "display_data"
    },
    {
     "data": {
      "application/vnd.jupyter.widget-view+json": {
       "model_id": "c3170ba8597a4d7db51e0d9b5a90df34",
       "version_major": 2,
       "version_minor": 0
      },
      "text/plain": [
       "0it [00:00, ?it/s]"
      ]
     },
     "metadata": {},
     "output_type": "display_data"
    },
    {
     "data": {
      "application/vnd.jupyter.widget-view+json": {
       "model_id": "1df1caa7f8b04946bc0e6fad5a7f61a5",
       "version_major": 2,
       "version_minor": 0
      },
      "text/plain": [
       "0it [00:00, ?it/s]"
      ]
     },
     "metadata": {},
     "output_type": "display_data"
    },
    {
     "data": {
      "application/vnd.jupyter.widget-view+json": {
       "model_id": "588bb25bc091405e91d00dc5f22474fb",
       "version_major": 2,
       "version_minor": 0
      },
      "text/plain": [
       "  0%|          | 0/4 [00:00<?, ?it/s]"
      ]
     },
     "metadata": {},
     "output_type": "display_data"
    },
    {
     "data": {
      "application/vnd.jupyter.widget-view+json": {
       "model_id": "816925d176d544ffa1d82d1eb9694950",
       "version_major": 2,
       "version_minor": 0
      },
      "text/plain": [
       "  0%|          | 0/3 [00:00<?, ?it/s]"
      ]
     },
     "metadata": {},
     "output_type": "display_data"
    },
    {
     "data": {
      "application/vnd.jupyter.widget-view+json": {
       "model_id": "b8c0d5afddd34bca837ebab27e8369af",
       "version_major": 2,
       "version_minor": 0
      },
      "text/plain": [
       "  0%|          | 0/1 [00:00<?, ?it/s]"
      ]
     },
     "metadata": {},
     "output_type": "display_data"
    },
    {
     "data": {
      "application/vnd.jupyter.widget-view+json": {
       "model_id": "2f933eb127734f45ad41125267b5782e",
       "version_major": 2,
       "version_minor": 0
      },
      "text/plain": [
       "0it [00:00, ?it/s]"
      ]
     },
     "metadata": {},
     "output_type": "display_data"
    },
    {
     "data": {
      "application/vnd.jupyter.widget-view+json": {
       "model_id": "e4f6f282df3d47ee91bb11576313612a",
       "version_major": 2,
       "version_minor": 0
      },
      "text/plain": [
       "0it [00:00, ?it/s]"
      ]
     },
     "metadata": {},
     "output_type": "display_data"
    },
    {
     "name": "stdout",
     "output_type": "stream",
     "text": [
      "48\n"
     ]
    }
   ],
   "source": [
    "count = 0\n",
    "formatted_questions = {}\n",
    "fq = []\n",
    "for chapter, sections in tqdm(questions.items()):\n",
    "    formatted_questions[chapter] = {}\n",
    "    for section, section_questions in tqdm(sections.items()):\n",
    "        formatted_questions[chapter][section] = []\n",
    "        for q in tqdm(section_questions):\n",
    "            if (q == None or q == \"\"):\n",
    "                continue;\n",
    "            formatted_response = f\"\"\"\n",
    "                \\\\textbf {{Question:}} {q['question']}\n",
    "                \n",
    "                \\\\textbf{{Answer:}} {q['answer']}\n",
    "                \n",
    "                \\\\textbf{{Explanation:}} {q['explanation']}\n",
    "                \n",
    "                \\\\textbf{{Hint:}} {q['hint']}\n",
    "                \\\\vspace{{0.5cm}} \n",
    "        \n",
    "            \"\"\"\n",
    "            count+=1\n",
    "            formatted_questions[chapter][section].append(formatted_response)\n",
    "            fq.append(formatted_response)\n",
    "print(count)"
   ]
  },
  {
   "cell_type": "code",
   "execution_count": 152,
   "id": "432afaef-90ae-43a6-a59c-900c2af3e283",
   "metadata": {},
   "outputs": [],
   "source": [
    "fff = ''.join(fq[0:10])"
   ]
  },
  {
   "cell_type": "code",
   "execution_count": 153,
   "id": "9a36eefd-3b96-4bc8-9dfd-1306cba37f64",
   "metadata": {},
   "outputs": [],
   "source": [
    "f = open(\"problems/problemset.tex\", \"r\")\n",
    "p = f.read()\n",
    "part = list(p.rpartition(\"\\\\vspace{1cm}\"))\n",
    "final = ''.join(part[0:2])\n",
    "final = final + fff + part[2]"
   ]
  },
  {
   "cell_type": "code",
   "execution_count": 154,
   "id": "060b5f80-93d0-44ae-bb85-0f997b923b4d",
   "metadata": {},
   "outputs": [],
   "source": [
    "f = open(\"problems/problemset_new_hints.tex\", \"w\")\n",
    "f.write(final)\n",
    "f.close()"
   ]
  },
  {
   "cell_type": "code",
   "execution_count": null,
   "id": "3ac7dc33-ef1f-45e0-afdd-98dfb549b1b6",
   "metadata": {},
   "outputs": [],
   "source": []
  }
 ],
 "metadata": {
  "kernelspec": {
   "display_name": "crystal-llm",
   "language": "python",
   "name": "crystal-llm"
  },
  "language_info": {
   "codemirror_mode": {
    "name": "ipython",
    "version": 3
   },
   "file_extension": ".py",
   "mimetype": "text/x-python",
   "name": "python",
   "nbconvert_exporter": "python",
   "pygments_lexer": "ipython3",
   "version": "3.12.1"
  }
 },
 "nbformat": 4,
 "nbformat_minor": 5
}
